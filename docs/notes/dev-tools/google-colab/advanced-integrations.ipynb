{
  "nbformat": 4,
  "nbformat_minor": 0,
  "metadata": {
    "colab": {
      "provenance": []
    },
    "kernelspec": {
      "name": "python3",
      "display_name": "Python 3"
    },
    "language_info": {
      "name": "python"
    }
  },
  "cells": [
    {
      "cell_type": "markdown",
      "source": [
        "# Advanced Integrations in Google Colab"
      ],
      "metadata": {
        "id": "qxBPhtJgRID4"
      }
    },
    {
      "cell_type": "markdown",
      "source": [
        "One benefit of Google Colab notebooks, over generic Jupyter notebooks, is the ability to easily integrate with other Google products and services.\n",
        "\n",
        "These integrations take advantage of the fact that in order to access a Colab notebook, you first need to be logged in with your Google Account. They then use credentials of the logged in user to access Google products and services on your behalf."
      ],
      "metadata": {
        "id": "lXo3c5uhc8mh"
      }
    },
    {
      "cell_type": "markdown",
      "source": [
        "## Google Drive"
      ],
      "metadata": {
        "id": "qk_pZKn0Qy5V"
      }
    },
    {
      "cell_type": "markdown",
      "source": [
        "A Google Drive integration will allow us to read and write files from Google Drive.\n",
        "\n",
        "We will first need to \"mount\" the Google Drive to the Colab filesystem, so we can access Drive files within Colab. When we mount the drive, we choose the name of a local subdirectory within the Colab filesystem (for example, \"content/drive\") in which we would like to access the files:"
      ],
      "metadata": {
        "id": "VLmje614oFGd"
      }
    },
    {
      "cell_type": "code",
      "source": [
        "import os\n",
        "from google.colab import drive\n",
        "\n",
        "drive.mount('/content/drive')"
      ],
      "metadata": {
        "id": "rDZSxY9bQ0I6",
        "colab": {
          "base_uri": "https://localhost:8080/"
        },
        "outputId": "cc578430-8118-4ea7-e9d7-3529f7b4bedf"
      },
      "execution_count": 1,
      "outputs": [
        {
          "output_type": "stream",
          "name": "stdout",
          "text": [
            "Mounted at /content/drive\n"
          ]
        }
      ]
    },
    {
      "cell_type": "markdown",
      "source": [
        "Now any files in your Google Drive are accessable from the notebook (for example, accessing a file called \"daily-prices-nflx.csv\" stored in the top level of the user's Google Drive:"
      ],
      "metadata": {
        "id": "cQodSg7fd0KB"
      }
    },
    {
      "cell_type": "code",
      "source": [
        "csv_filepath = \"/content/drive/MyDrive/daily-prices-nflx.csv\"\n",
        "print(os.path.isfile(csv_filepath))"
      ],
      "metadata": {
        "colab": {
          "base_uri": "https://localhost:8080/"
        },
        "id": "Ug8jFS_CeAst",
        "outputId": "2e072a24-5fae-4329-818a-ef64c2cc6771"
      },
      "execution_count": 2,
      "outputs": [
        {
          "output_type": "stream",
          "name": "stdout",
          "text": [
            "True\n"
          ]
        }
      ]
    },
    {
      "cell_type": "code",
      "source": [
        "from pandas import read_csv\n",
        "\n",
        "df = read_csv(csv_filepath)\n",
        "df.head()"
      ],
      "metadata": {
        "colab": {
          "base_uri": "https://localhost:8080/",
          "height": 206
        },
        "id": "2K_cNKC5emRP",
        "outputId": "c9517c81-d3b1-4280-88ad-647cf26c4c9a"
      },
      "execution_count": 3,
      "outputs": [
        {
          "output_type": "execute_result",
          "data": {
            "text/plain": [
              "    timestamp    open      high       low   close  adjusted_close   volume  \\\n",
              "0  2024-06-17  669.11  682.7099  665.1101  675.83          675.83  3631184   \n",
              "1  2024-06-14  655.05  675.5800  652.6400  669.38          669.38  4447116   \n",
              "2  2024-06-13  644.00  655.2500  642.3500  653.26          653.26  1863587   \n",
              "3  2024-06-12  652.21  655.7800  643.1100  650.06          650.06  2094381   \n",
              "4  2024-06-11  640.72  650.1900  640.5200  648.55          648.55  2167417   \n",
              "\n",
              "   dividend_amount  split_coefficient  \n",
              "0              0.0                1.0  \n",
              "1              0.0                1.0  \n",
              "2              0.0                1.0  \n",
              "3              0.0                1.0  \n",
              "4              0.0                1.0  "
            ],
            "text/html": [
              "\n",
              "  <div id=\"df-c299f590-d40c-4de4-8670-b8d7aa0806ce\" class=\"colab-df-container\">\n",
              "    <div>\n",
              "<style scoped>\n",
              "    .dataframe tbody tr th:only-of-type {\n",
              "        vertical-align: middle;\n",
              "    }\n",
              "\n",
              "    .dataframe tbody tr th {\n",
              "        vertical-align: top;\n",
              "    }\n",
              "\n",
              "    .dataframe thead th {\n",
              "        text-align: right;\n",
              "    }\n",
              "</style>\n",
              "<table border=\"1\" class=\"dataframe\">\n",
              "  <thead>\n",
              "    <tr style=\"text-align: right;\">\n",
              "      <th></th>\n",
              "      <th>timestamp</th>\n",
              "      <th>open</th>\n",
              "      <th>high</th>\n",
              "      <th>low</th>\n",
              "      <th>close</th>\n",
              "      <th>adjusted_close</th>\n",
              "      <th>volume</th>\n",
              "      <th>dividend_amount</th>\n",
              "      <th>split_coefficient</th>\n",
              "    </tr>\n",
              "  </thead>\n",
              "  <tbody>\n",
              "    <tr>\n",
              "      <th>0</th>\n",
              "      <td>2024-06-17</td>\n",
              "      <td>669.11</td>\n",
              "      <td>682.7099</td>\n",
              "      <td>665.1101</td>\n",
              "      <td>675.83</td>\n",
              "      <td>675.83</td>\n",
              "      <td>3631184</td>\n",
              "      <td>0.0</td>\n",
              "      <td>1.0</td>\n",
              "    </tr>\n",
              "    <tr>\n",
              "      <th>1</th>\n",
              "      <td>2024-06-14</td>\n",
              "      <td>655.05</td>\n",
              "      <td>675.5800</td>\n",
              "      <td>652.6400</td>\n",
              "      <td>669.38</td>\n",
              "      <td>669.38</td>\n",
              "      <td>4447116</td>\n",
              "      <td>0.0</td>\n",
              "      <td>1.0</td>\n",
              "    </tr>\n",
              "    <tr>\n",
              "      <th>2</th>\n",
              "      <td>2024-06-13</td>\n",
              "      <td>644.00</td>\n",
              "      <td>655.2500</td>\n",
              "      <td>642.3500</td>\n",
              "      <td>653.26</td>\n",
              "      <td>653.26</td>\n",
              "      <td>1863587</td>\n",
              "      <td>0.0</td>\n",
              "      <td>1.0</td>\n",
              "    </tr>\n",
              "    <tr>\n",
              "      <th>3</th>\n",
              "      <td>2024-06-12</td>\n",
              "      <td>652.21</td>\n",
              "      <td>655.7800</td>\n",
              "      <td>643.1100</td>\n",
              "      <td>650.06</td>\n",
              "      <td>650.06</td>\n",
              "      <td>2094381</td>\n",
              "      <td>0.0</td>\n",
              "      <td>1.0</td>\n",
              "    </tr>\n",
              "    <tr>\n",
              "      <th>4</th>\n",
              "      <td>2024-06-11</td>\n",
              "      <td>640.72</td>\n",
              "      <td>650.1900</td>\n",
              "      <td>640.5200</td>\n",
              "      <td>648.55</td>\n",
              "      <td>648.55</td>\n",
              "      <td>2167417</td>\n",
              "      <td>0.0</td>\n",
              "      <td>1.0</td>\n",
              "    </tr>\n",
              "  </tbody>\n",
              "</table>\n",
              "</div>\n",
              "    <div class=\"colab-df-buttons\">\n",
              "\n",
              "  <div class=\"colab-df-container\">\n",
              "    <button class=\"colab-df-convert\" onclick=\"convertToInteractive('df-c299f590-d40c-4de4-8670-b8d7aa0806ce')\"\n",
              "            title=\"Convert this dataframe to an interactive table.\"\n",
              "            style=\"display:none;\">\n",
              "\n",
              "  <svg xmlns=\"http://www.w3.org/2000/svg\" height=\"24px\" viewBox=\"0 -960 960 960\">\n",
              "    <path d=\"M120-120v-720h720v720H120Zm60-500h600v-160H180v160Zm220 220h160v-160H400v160Zm0 220h160v-160H400v160ZM180-400h160v-160H180v160Zm440 0h160v-160H620v160ZM180-180h160v-160H180v160Zm440 0h160v-160H620v160Z\"/>\n",
              "  </svg>\n",
              "    </button>\n",
              "\n",
              "  <style>\n",
              "    .colab-df-container {\n",
              "      display:flex;\n",
              "      gap: 12px;\n",
              "    }\n",
              "\n",
              "    .colab-df-convert {\n",
              "      background-color: #E8F0FE;\n",
              "      border: none;\n",
              "      border-radius: 50%;\n",
              "      cursor: pointer;\n",
              "      display: none;\n",
              "      fill: #1967D2;\n",
              "      height: 32px;\n",
              "      padding: 0 0 0 0;\n",
              "      width: 32px;\n",
              "    }\n",
              "\n",
              "    .colab-df-convert:hover {\n",
              "      background-color: #E2EBFA;\n",
              "      box-shadow: 0px 1px 2px rgba(60, 64, 67, 0.3), 0px 1px 3px 1px rgba(60, 64, 67, 0.15);\n",
              "      fill: #174EA6;\n",
              "    }\n",
              "\n",
              "    .colab-df-buttons div {\n",
              "      margin-bottom: 4px;\n",
              "    }\n",
              "\n",
              "    [theme=dark] .colab-df-convert {\n",
              "      background-color: #3B4455;\n",
              "      fill: #D2E3FC;\n",
              "    }\n",
              "\n",
              "    [theme=dark] .colab-df-convert:hover {\n",
              "      background-color: #434B5C;\n",
              "      box-shadow: 0px 1px 3px 1px rgba(0, 0, 0, 0.15);\n",
              "      filter: drop-shadow(0px 1px 2px rgba(0, 0, 0, 0.3));\n",
              "      fill: #FFFFFF;\n",
              "    }\n",
              "  </style>\n",
              "\n",
              "    <script>\n",
              "      const buttonEl =\n",
              "        document.querySelector('#df-c299f590-d40c-4de4-8670-b8d7aa0806ce button.colab-df-convert');\n",
              "      buttonEl.style.display =\n",
              "        google.colab.kernel.accessAllowed ? 'block' : 'none';\n",
              "\n",
              "      async function convertToInteractive(key) {\n",
              "        const element = document.querySelector('#df-c299f590-d40c-4de4-8670-b8d7aa0806ce');\n",
              "        const dataTable =\n",
              "          await google.colab.kernel.invokeFunction('convertToInteractive',\n",
              "                                                    [key], {});\n",
              "        if (!dataTable) return;\n",
              "\n",
              "        const docLinkHtml = 'Like what you see? Visit the ' +\n",
              "          '<a target=\"_blank\" href=https://colab.research.google.com/notebooks/data_table.ipynb>data table notebook</a>'\n",
              "          + ' to learn more about interactive tables.';\n",
              "        element.innerHTML = '';\n",
              "        dataTable['output_type'] = 'display_data';\n",
              "        await google.colab.output.renderOutput(dataTable, element);\n",
              "        const docLink = document.createElement('div');\n",
              "        docLink.innerHTML = docLinkHtml;\n",
              "        element.appendChild(docLink);\n",
              "      }\n",
              "    </script>\n",
              "  </div>\n",
              "\n",
              "\n",
              "<div id=\"df-4a9fcf53-5676-40e2-b5ea-c0c231baac82\">\n",
              "  <button class=\"colab-df-quickchart\" onclick=\"quickchart('df-4a9fcf53-5676-40e2-b5ea-c0c231baac82')\"\n",
              "            title=\"Suggest charts\"\n",
              "            style=\"display:none;\">\n",
              "\n",
              "<svg xmlns=\"http://www.w3.org/2000/svg\" height=\"24px\"viewBox=\"0 0 24 24\"\n",
              "     width=\"24px\">\n",
              "    <g>\n",
              "        <path d=\"M19 3H5c-1.1 0-2 .9-2 2v14c0 1.1.9 2 2 2h14c1.1 0 2-.9 2-2V5c0-1.1-.9-2-2-2zM9 17H7v-7h2v7zm4 0h-2V7h2v10zm4 0h-2v-4h2v4z\"/>\n",
              "    </g>\n",
              "</svg>\n",
              "  </button>\n",
              "\n",
              "<style>\n",
              "  .colab-df-quickchart {\n",
              "      --bg-color: #E8F0FE;\n",
              "      --fill-color: #1967D2;\n",
              "      --hover-bg-color: #E2EBFA;\n",
              "      --hover-fill-color: #174EA6;\n",
              "      --disabled-fill-color: #AAA;\n",
              "      --disabled-bg-color: #DDD;\n",
              "  }\n",
              "\n",
              "  [theme=dark] .colab-df-quickchart {\n",
              "      --bg-color: #3B4455;\n",
              "      --fill-color: #D2E3FC;\n",
              "      --hover-bg-color: #434B5C;\n",
              "      --hover-fill-color: #FFFFFF;\n",
              "      --disabled-bg-color: #3B4455;\n",
              "      --disabled-fill-color: #666;\n",
              "  }\n",
              "\n",
              "  .colab-df-quickchart {\n",
              "    background-color: var(--bg-color);\n",
              "    border: none;\n",
              "    border-radius: 50%;\n",
              "    cursor: pointer;\n",
              "    display: none;\n",
              "    fill: var(--fill-color);\n",
              "    height: 32px;\n",
              "    padding: 0;\n",
              "    width: 32px;\n",
              "  }\n",
              "\n",
              "  .colab-df-quickchart:hover {\n",
              "    background-color: var(--hover-bg-color);\n",
              "    box-shadow: 0 1px 2px rgba(60, 64, 67, 0.3), 0 1px 3px 1px rgba(60, 64, 67, 0.15);\n",
              "    fill: var(--button-hover-fill-color);\n",
              "  }\n",
              "\n",
              "  .colab-df-quickchart-complete:disabled,\n",
              "  .colab-df-quickchart-complete:disabled:hover {\n",
              "    background-color: var(--disabled-bg-color);\n",
              "    fill: var(--disabled-fill-color);\n",
              "    box-shadow: none;\n",
              "  }\n",
              "\n",
              "  .colab-df-spinner {\n",
              "    border: 2px solid var(--fill-color);\n",
              "    border-color: transparent;\n",
              "    border-bottom-color: var(--fill-color);\n",
              "    animation:\n",
              "      spin 1s steps(1) infinite;\n",
              "  }\n",
              "\n",
              "  @keyframes spin {\n",
              "    0% {\n",
              "      border-color: transparent;\n",
              "      border-bottom-color: var(--fill-color);\n",
              "      border-left-color: var(--fill-color);\n",
              "    }\n",
              "    20% {\n",
              "      border-color: transparent;\n",
              "      border-left-color: var(--fill-color);\n",
              "      border-top-color: var(--fill-color);\n",
              "    }\n",
              "    30% {\n",
              "      border-color: transparent;\n",
              "      border-left-color: var(--fill-color);\n",
              "      border-top-color: var(--fill-color);\n",
              "      border-right-color: var(--fill-color);\n",
              "    }\n",
              "    40% {\n",
              "      border-color: transparent;\n",
              "      border-right-color: var(--fill-color);\n",
              "      border-top-color: var(--fill-color);\n",
              "    }\n",
              "    60% {\n",
              "      border-color: transparent;\n",
              "      border-right-color: var(--fill-color);\n",
              "    }\n",
              "    80% {\n",
              "      border-color: transparent;\n",
              "      border-right-color: var(--fill-color);\n",
              "      border-bottom-color: var(--fill-color);\n",
              "    }\n",
              "    90% {\n",
              "      border-color: transparent;\n",
              "      border-bottom-color: var(--fill-color);\n",
              "    }\n",
              "  }\n",
              "</style>\n",
              "\n",
              "  <script>\n",
              "    async function quickchart(key) {\n",
              "      const quickchartButtonEl =\n",
              "        document.querySelector('#' + key + ' button');\n",
              "      quickchartButtonEl.disabled = true;  // To prevent multiple clicks.\n",
              "      quickchartButtonEl.classList.add('colab-df-spinner');\n",
              "      try {\n",
              "        const charts = await google.colab.kernel.invokeFunction(\n",
              "            'suggestCharts', [key], {});\n",
              "      } catch (error) {\n",
              "        console.error('Error during call to suggestCharts:', error);\n",
              "      }\n",
              "      quickchartButtonEl.classList.remove('colab-df-spinner');\n",
              "      quickchartButtonEl.classList.add('colab-df-quickchart-complete');\n",
              "    }\n",
              "    (() => {\n",
              "      let quickchartButtonEl =\n",
              "        document.querySelector('#df-4a9fcf53-5676-40e2-b5ea-c0c231baac82 button');\n",
              "      quickchartButtonEl.style.display =\n",
              "        google.colab.kernel.accessAllowed ? 'block' : 'none';\n",
              "    })();\n",
              "  </script>\n",
              "</div>\n",
              "\n",
              "    </div>\n",
              "  </div>\n"
            ],
            "application/vnd.google.colaboratory.intrinsic+json": {
              "type": "dataframe",
              "variable_name": "df",
              "summary": "{\n  \"name\": \"df\",\n  \"rows\": 5555,\n  \"fields\": [\n    {\n      \"column\": \"timestamp\",\n      \"properties\": {\n        \"dtype\": \"object\",\n        \"num_unique_values\": 5555,\n        \"samples\": [\n          \"2005-04-27\",\n          \"2006-01-31\",\n          \"2013-04-30\"\n        ],\n        \"semantic_type\": \"\",\n        \"description\": \"\"\n      }\n    },\n    {\n      \"column\": \"open\",\n      \"properties\": {\n        \"dtype\": \"number\",\n        \"std\": 183.17693944406952,\n        \"min\": 5.29,\n        \"max\": 708.9,\n        \"num_unique_values\": 4863,\n        \"samples\": [\n          567.2,\n          97.51,\n          216.98\n        ],\n        \"semantic_type\": \"\",\n        \"description\": \"\"\n      }\n    },\n    {\n      \"column\": \"high\",\n      \"properties\": {\n        \"dtype\": \"number\",\n        \"std\": 185.4916692904882,\n        \"min\": 5.75,\n        \"max\": 716.16,\n        \"num_unique_values\": 4905,\n        \"samples\": [\n          47.92,\n          48.2,\n          490.06\n        ],\n        \"semantic_type\": \"\",\n        \"description\": \"\"\n      }\n    },\n    {\n      \"column\": \"low\",\n      \"properties\": {\n        \"dtype\": \"number\",\n        \"std\": 180.76006143717058,\n        \"min\": 4.85,\n        \"max\": 697.57,\n        \"num_unique_values\": 4880,\n        \"samples\": [\n          27.75,\n          507.0,\n          337.635\n        ],\n        \"semantic_type\": \"\",\n        \"description\": \"\"\n      }\n    },\n    {\n      \"column\": \"close\",\n      \"properties\": {\n        \"dtype\": \"number\",\n        \"std\": 183.19654851025513,\n        \"min\": 5.22,\n        \"max\": 707.61,\n        \"num_unique_values\": 4960,\n        \"samples\": [\n          286.62,\n          658.64,\n          356.56\n        ],\n        \"semantic_type\": \"\",\n        \"description\": \"\"\n      }\n    },\n    {\n      \"column\": \"adjusted_close\",\n      \"properties\": {\n        \"dtype\": \"number\",\n        \"std\": 184.03441791034788,\n        \"min\": 0.37285677,\n        \"max\": 691.69,\n        \"num_unique_values\": 5076,\n        \"samples\": [\n          523.28,\n          1.959283755,\n          550.64\n        ],\n        \"semantic_type\": \"\",\n        \"description\": \"\"\n      }\n    },\n    {\n      \"column\": \"volume\",\n      \"properties\": {\n        \"dtype\": \"number\",\n        \"std\": 5995827,\n        \"min\": 20400,\n        \"max\": 132644607,\n        \"num_unique_values\": 5473,\n        \"samples\": [\n          209700,\n          3296600,\n          8961126\n        ],\n        \"semantic_type\": \"\",\n        \"description\": \"\"\n      }\n    },\n    {\n      \"column\": \"dividend_amount\",\n      \"properties\": {\n        \"dtype\": \"number\",\n        \"std\": 0.0,\n        \"min\": 0.0,\n        \"max\": 0.0,\n        \"num_unique_values\": 1,\n        \"samples\": [\n          0.0\n        ],\n        \"semantic_type\": \"\",\n        \"description\": \"\"\n      }\n    },\n    {\n      \"column\": \"split_coefficient\",\n      \"properties\": {\n        \"dtype\": \"number\",\n        \"std\": 0.08161061352483334,\n        \"min\": 1.0,\n        \"max\": 7.000007000007,\n        \"num_unique_values\": 3,\n        \"samples\": [\n          1.0\n        ],\n        \"semantic_type\": \"\",\n        \"description\": \"\"\n      }\n    }\n  ]\n}"
            }
          },
          "metadata": {},
          "execution_count": 3
        }
      ]
    },
    {
      "cell_type": "markdown",
      "source": [
        "## Google Sheets"
      ],
      "metadata": {
        "id": "39AjpHjHQ2m-"
      }
    },
    {
      "cell_type": "markdown",
      "source": [
        "For a spreadsheet datastore integration, we can interface with Google Sheets directly.\n",
        "\n",
        "We first need to create a Google Sheets document, for instance this [example document](https://docs.google.com/spreadsheets/d/1qbEagXHlGgFBiQWdUaL62V9f8MNW_t0QFmaQhoTiEjw/edit?usp=sharing).\n",
        "\n",
        "Before proceeding, we observe the identifier of the Google Sheets document from the URL:\n",
        "\n"
      ],
      "metadata": {
        "id": "L2xETKqGEiCG"
      }
    },
    {
      "cell_type": "code",
      "source": [
        "# example document URL: https://docs.google.com/spreadsheets/d/1qbEagXHlGgFBiQWdUaL62V9f8MNW_t0QFmaQhoTiEjw/edit?usp=sharing\n",
        "DOCUMENT_ID = \"1qbEagXHlGgFBiQWdUaL62V9f8MNW_t0QFmaQhoTiEjw\""
      ],
      "metadata": {
        "id": "71xEwmRSFLrE"
      },
      "execution_count": 4,
      "outputs": []
    },
    {
      "cell_type": "markdown",
      "source": [
        "After noting the document identifier, we can use some boilerplate code to authenticate and access the document.\n"
      ],
      "metadata": {
        "id": "SFTjHhaoa_SD"
      }
    },
    {
      "cell_type": "markdown",
      "source": [
        "### Authorization"
      ],
      "metadata": {
        "id": "7rkwzM-Ga__w"
      }
    },
    {
      "cell_type": "markdown",
      "source": [
        "\n",
        "Authorizing Google Colab to authenticate on behalf of the currently logged in user (assuming that user has access to the spreadsheet document you created):"
      ],
      "metadata": {
        "id": "tc0ES2YNFiZN"
      }
    },
    {
      "cell_type": "code",
      "source": [
        "from google.colab import auth\n",
        "\n",
        "auth.authenticate_user()"
      ],
      "metadata": {
        "id": "HlOn7AgKFh1R"
      },
      "execution_count": 5,
      "outputs": []
    },
    {
      "cell_type": "markdown",
      "source": [
        "Using credentials from the logged in user:"
      ],
      "metadata": {
        "id": "XAwzJCBohrJR"
      }
    },
    {
      "cell_type": "code",
      "source": [
        "from google.auth import default\n",
        "\n",
        "creds, _ = default()"
      ],
      "metadata": {
        "id": "Ib7gP85SG3CG"
      },
      "execution_count": 6,
      "outputs": []
    },
    {
      "cell_type": "markdown",
      "source": [
        "### Connecting to Google Sheets"
      ],
      "metadata": {
        "id": "x6FueBEfu5FQ"
      }
    },
    {
      "cell_type": "markdown",
      "source": [
        "Interfacing with Google Sheets, using the [`gspread` package](https://docs.gspread.org):\n"
      ],
      "metadata": {
        "id": "R5DOIF8yu82Z"
      }
    },
    {
      "cell_type": "code",
      "source": [
        "!pip list | grep gspread"
      ],
      "metadata": {
        "colab": {
          "base_uri": "https://localhost:8080/"
        },
        "id": "dj9n_avnvUkC",
        "outputId": "df458978-00b4-4673-8fa5-a8eec4e2e406"
      },
      "execution_count": 7,
      "outputs": [
        {
          "output_type": "stream",
          "name": "stdout",
          "text": [
            "gspread                          6.0.2\n",
            "gspread-dataframe                3.3.1\n"
          ]
        }
      ]
    },
    {
      "cell_type": "code",
      "source": [
        "import gspread\n",
        "\n",
        "client = gspread.authorize(creds)"
      ],
      "metadata": {
        "id": "MgVaioDJu9WM"
      },
      "execution_count": 8,
      "outputs": []
    },
    {
      "cell_type": "markdown",
      "source": [
        "Accessing the document:"
      ],
      "metadata": {
        "id": "Iq1O1W-Gvo6O"
      }
    },
    {
      "cell_type": "code",
      "source": [
        "doc = client.open_by_key(DOCUMENT_ID)\n",
        "print(\"DOC:\", doc.title)"
      ],
      "metadata": {
        "colab": {
          "base_uri": "https://localhost:8080/"
        },
        "id": "x1wOX0gYvqsc",
        "outputId": "ed9f3013-b853-4966-a137-cb9eaf935f5e"
      },
      "execution_count": 9,
      "outputs": [
        {
          "output_type": "stream",
          "name": "stdout",
          "text": [
            "DOC: CSV Data Files (Python for Finance Book) - PUBLIC\n"
          ]
        }
      ]
    },
    {
      "cell_type": "markdown",
      "source": [
        "Listing worksheets in the document:"
      ],
      "metadata": {
        "id": "sYIV-q2zvtR2"
      }
    },
    {
      "cell_type": "code",
      "source": [
        "doc.worksheets()"
      ],
      "metadata": {
        "colab": {
          "base_uri": "https://localhost:8080/"
        },
        "id": "HoUYYNQwvuu7",
        "outputId": "5ceaf1de-c8c0-40c0-d9e3-2c42770d7685"
      },
      "execution_count": 10,
      "outputs": [
        {
          "output_type": "execute_result",
          "data": {
            "text/plain": [
              "[<Worksheet 'daily-prices-nflx' id:0>]"
            ]
          },
          "metadata": {},
          "execution_count": 10
        }
      ]
    },
    {
      "cell_type": "markdown",
      "source": [
        "Accessing a specific sheet:"
      ],
      "metadata": {
        "id": "-cVap8R7v4D_"
      }
    },
    {
      "cell_type": "code",
      "source": [
        "sheet = doc.worksheet(\"daily-prices-nflx\")\n",
        "print(\"SHEET:\", sheet.title)"
      ],
      "metadata": {
        "colab": {
          "base_uri": "https://localhost:8080/"
        },
        "id": "4Ef3oakDv62P",
        "outputId": "074f1f00-6977-49a0-8729-e3e4dcfc4999"
      },
      "execution_count": 11,
      "outputs": [
        {
          "output_type": "stream",
          "name": "stdout",
          "text": [
            "SHEET: daily-prices-nflx\n"
          ]
        }
      ]
    },
    {
      "cell_type": "markdown",
      "source": [
        "Reading data from a sheet:"
      ],
      "metadata": {
        "id": "d3lLuktZv9AO"
      }
    },
    {
      "cell_type": "code",
      "source": [
        "records = sheet.get_all_records()\n",
        "# previewing first few records:\n",
        "print(records[0:5])"
      ],
      "metadata": {
        "colab": {
          "base_uri": "https://localhost:8080/"
        },
        "id": "ujpWs3bLv-Nl",
        "outputId": "dd9f30b7-ab2d-4295-c849-b728aa9b170e"
      },
      "execution_count": 18,
      "outputs": [
        {
          "output_type": "stream",
          "name": "stdout",
          "text": [
            "[{'timestamp': '2024-06-17', 'open': 669.11, 'high': 682.7099, 'low': 665.1101, 'close': 675.83, 'adjusted_close': 675.83, 'volume': 3631184, 'dividend_amount': 0, 'split_coefficient': 1}, {'timestamp': '2024-06-14', 'open': 655.05, 'high': 675.58, 'low': 652.64, 'close': 669.38, 'adjusted_close': 669.38, 'volume': 4447116, 'dividend_amount': 0, 'split_coefficient': 1}, {'timestamp': '2024-06-13', 'open': 644, 'high': 655.25, 'low': 642.35, 'close': 653.26, 'adjusted_close': 653.26, 'volume': 1863587, 'dividend_amount': 0, 'split_coefficient': 1}, {'timestamp': '2024-06-12', 'open': 652.21, 'high': 655.78, 'low': 643.11, 'close': 650.06, 'adjusted_close': 650.06, 'volume': 2094381, 'dividend_amount': 0, 'split_coefficient': 1}, {'timestamp': '2024-06-11', 'open': 640.72, 'high': 650.19, 'low': 640.52, 'close': 648.55, 'adjusted_close': 648.55, 'volume': 2167417, 'dividend_amount': 0, 'split_coefficient': 1}]\n"
          ]
        }
      ]
    },
    {
      "cell_type": "code",
      "source": [
        "from pandas import DataFrame\n",
        "\n",
        "df = DataFrame(records)\n",
        "df.head()"
      ],
      "metadata": {
        "colab": {
          "base_uri": "https://localhost:8080/",
          "height": 206
        },
        "id": "Y_jiSukKwARC",
        "outputId": "ca55afcd-2be7-47f8-e444-06d6039932ec"
      },
      "execution_count": 13,
      "outputs": [
        {
          "output_type": "execute_result",
          "data": {
            "text/plain": [
              "    timestamp    open      high       low   close  adjusted_close   volume  \\\n",
              "0  2024-06-17  669.11  682.7099  665.1101  675.83          675.83  3631184   \n",
              "1  2024-06-14  655.05  675.5800  652.6400  669.38          669.38  4447116   \n",
              "2  2024-06-13  644.00  655.2500  642.3500  653.26          653.26  1863587   \n",
              "3  2024-06-12  652.21  655.7800  643.1100  650.06          650.06  2094381   \n",
              "4  2024-06-11  640.72  650.1900  640.5200  648.55          648.55  2167417   \n",
              "\n",
              "   dividend_amount  split_coefficient  \n",
              "0                0                1.0  \n",
              "1                0                1.0  \n",
              "2                0                1.0  \n",
              "3                0                1.0  \n",
              "4                0                1.0  "
            ],
            "text/html": [
              "\n",
              "  <div id=\"df-525cc810-d803-432a-83ba-9a5eb09c26b7\" class=\"colab-df-container\">\n",
              "    <div>\n",
              "<style scoped>\n",
              "    .dataframe tbody tr th:only-of-type {\n",
              "        vertical-align: middle;\n",
              "    }\n",
              "\n",
              "    .dataframe tbody tr th {\n",
              "        vertical-align: top;\n",
              "    }\n",
              "\n",
              "    .dataframe thead th {\n",
              "        text-align: right;\n",
              "    }\n",
              "</style>\n",
              "<table border=\"1\" class=\"dataframe\">\n",
              "  <thead>\n",
              "    <tr style=\"text-align: right;\">\n",
              "      <th></th>\n",
              "      <th>timestamp</th>\n",
              "      <th>open</th>\n",
              "      <th>high</th>\n",
              "      <th>low</th>\n",
              "      <th>close</th>\n",
              "      <th>adjusted_close</th>\n",
              "      <th>volume</th>\n",
              "      <th>dividend_amount</th>\n",
              "      <th>split_coefficient</th>\n",
              "    </tr>\n",
              "  </thead>\n",
              "  <tbody>\n",
              "    <tr>\n",
              "      <th>0</th>\n",
              "      <td>2024-06-17</td>\n",
              "      <td>669.11</td>\n",
              "      <td>682.7099</td>\n",
              "      <td>665.1101</td>\n",
              "      <td>675.83</td>\n",
              "      <td>675.83</td>\n",
              "      <td>3631184</td>\n",
              "      <td>0</td>\n",
              "      <td>1.0</td>\n",
              "    </tr>\n",
              "    <tr>\n",
              "      <th>1</th>\n",
              "      <td>2024-06-14</td>\n",
              "      <td>655.05</td>\n",
              "      <td>675.5800</td>\n",
              "      <td>652.6400</td>\n",
              "      <td>669.38</td>\n",
              "      <td>669.38</td>\n",
              "      <td>4447116</td>\n",
              "      <td>0</td>\n",
              "      <td>1.0</td>\n",
              "    </tr>\n",
              "    <tr>\n",
              "      <th>2</th>\n",
              "      <td>2024-06-13</td>\n",
              "      <td>644.00</td>\n",
              "      <td>655.2500</td>\n",
              "      <td>642.3500</td>\n",
              "      <td>653.26</td>\n",
              "      <td>653.26</td>\n",
              "      <td>1863587</td>\n",
              "      <td>0</td>\n",
              "      <td>1.0</td>\n",
              "    </tr>\n",
              "    <tr>\n",
              "      <th>3</th>\n",
              "      <td>2024-06-12</td>\n",
              "      <td>652.21</td>\n",
              "      <td>655.7800</td>\n",
              "      <td>643.1100</td>\n",
              "      <td>650.06</td>\n",
              "      <td>650.06</td>\n",
              "      <td>2094381</td>\n",
              "      <td>0</td>\n",
              "      <td>1.0</td>\n",
              "    </tr>\n",
              "    <tr>\n",
              "      <th>4</th>\n",
              "      <td>2024-06-11</td>\n",
              "      <td>640.72</td>\n",
              "      <td>650.1900</td>\n",
              "      <td>640.5200</td>\n",
              "      <td>648.55</td>\n",
              "      <td>648.55</td>\n",
              "      <td>2167417</td>\n",
              "      <td>0</td>\n",
              "      <td>1.0</td>\n",
              "    </tr>\n",
              "  </tbody>\n",
              "</table>\n",
              "</div>\n",
              "    <div class=\"colab-df-buttons\">\n",
              "\n",
              "  <div class=\"colab-df-container\">\n",
              "    <button class=\"colab-df-convert\" onclick=\"convertToInteractive('df-525cc810-d803-432a-83ba-9a5eb09c26b7')\"\n",
              "            title=\"Convert this dataframe to an interactive table.\"\n",
              "            style=\"display:none;\">\n",
              "\n",
              "  <svg xmlns=\"http://www.w3.org/2000/svg\" height=\"24px\" viewBox=\"0 -960 960 960\">\n",
              "    <path d=\"M120-120v-720h720v720H120Zm60-500h600v-160H180v160Zm220 220h160v-160H400v160Zm0 220h160v-160H400v160ZM180-400h160v-160H180v160Zm440 0h160v-160H620v160ZM180-180h160v-160H180v160Zm440 0h160v-160H620v160Z\"/>\n",
              "  </svg>\n",
              "    </button>\n",
              "\n",
              "  <style>\n",
              "    .colab-df-container {\n",
              "      display:flex;\n",
              "      gap: 12px;\n",
              "    }\n",
              "\n",
              "    .colab-df-convert {\n",
              "      background-color: #E8F0FE;\n",
              "      border: none;\n",
              "      border-radius: 50%;\n",
              "      cursor: pointer;\n",
              "      display: none;\n",
              "      fill: #1967D2;\n",
              "      height: 32px;\n",
              "      padding: 0 0 0 0;\n",
              "      width: 32px;\n",
              "    }\n",
              "\n",
              "    .colab-df-convert:hover {\n",
              "      background-color: #E2EBFA;\n",
              "      box-shadow: 0px 1px 2px rgba(60, 64, 67, 0.3), 0px 1px 3px 1px rgba(60, 64, 67, 0.15);\n",
              "      fill: #174EA6;\n",
              "    }\n",
              "\n",
              "    .colab-df-buttons div {\n",
              "      margin-bottom: 4px;\n",
              "    }\n",
              "\n",
              "    [theme=dark] .colab-df-convert {\n",
              "      background-color: #3B4455;\n",
              "      fill: #D2E3FC;\n",
              "    }\n",
              "\n",
              "    [theme=dark] .colab-df-convert:hover {\n",
              "      background-color: #434B5C;\n",
              "      box-shadow: 0px 1px 3px 1px rgba(0, 0, 0, 0.15);\n",
              "      filter: drop-shadow(0px 1px 2px rgba(0, 0, 0, 0.3));\n",
              "      fill: #FFFFFF;\n",
              "    }\n",
              "  </style>\n",
              "\n",
              "    <script>\n",
              "      const buttonEl =\n",
              "        document.querySelector('#df-525cc810-d803-432a-83ba-9a5eb09c26b7 button.colab-df-convert');\n",
              "      buttonEl.style.display =\n",
              "        google.colab.kernel.accessAllowed ? 'block' : 'none';\n",
              "\n",
              "      async function convertToInteractive(key) {\n",
              "        const element = document.querySelector('#df-525cc810-d803-432a-83ba-9a5eb09c26b7');\n",
              "        const dataTable =\n",
              "          await google.colab.kernel.invokeFunction('convertToInteractive',\n",
              "                                                    [key], {});\n",
              "        if (!dataTable) return;\n",
              "\n",
              "        const docLinkHtml = 'Like what you see? Visit the ' +\n",
              "          '<a target=\"_blank\" href=https://colab.research.google.com/notebooks/data_table.ipynb>data table notebook</a>'\n",
              "          + ' to learn more about interactive tables.';\n",
              "        element.innerHTML = '';\n",
              "        dataTable['output_type'] = 'display_data';\n",
              "        await google.colab.output.renderOutput(dataTable, element);\n",
              "        const docLink = document.createElement('div');\n",
              "        docLink.innerHTML = docLinkHtml;\n",
              "        element.appendChild(docLink);\n",
              "      }\n",
              "    </script>\n",
              "  </div>\n",
              "\n",
              "\n",
              "<div id=\"df-51e2efbe-60da-4795-aa78-6b7bce91c554\">\n",
              "  <button class=\"colab-df-quickchart\" onclick=\"quickchart('df-51e2efbe-60da-4795-aa78-6b7bce91c554')\"\n",
              "            title=\"Suggest charts\"\n",
              "            style=\"display:none;\">\n",
              "\n",
              "<svg xmlns=\"http://www.w3.org/2000/svg\" height=\"24px\"viewBox=\"0 0 24 24\"\n",
              "     width=\"24px\">\n",
              "    <g>\n",
              "        <path d=\"M19 3H5c-1.1 0-2 .9-2 2v14c0 1.1.9 2 2 2h14c1.1 0 2-.9 2-2V5c0-1.1-.9-2-2-2zM9 17H7v-7h2v7zm4 0h-2V7h2v10zm4 0h-2v-4h2v4z\"/>\n",
              "    </g>\n",
              "</svg>\n",
              "  </button>\n",
              "\n",
              "<style>\n",
              "  .colab-df-quickchart {\n",
              "      --bg-color: #E8F0FE;\n",
              "      --fill-color: #1967D2;\n",
              "      --hover-bg-color: #E2EBFA;\n",
              "      --hover-fill-color: #174EA6;\n",
              "      --disabled-fill-color: #AAA;\n",
              "      --disabled-bg-color: #DDD;\n",
              "  }\n",
              "\n",
              "  [theme=dark] .colab-df-quickchart {\n",
              "      --bg-color: #3B4455;\n",
              "      --fill-color: #D2E3FC;\n",
              "      --hover-bg-color: #434B5C;\n",
              "      --hover-fill-color: #FFFFFF;\n",
              "      --disabled-bg-color: #3B4455;\n",
              "      --disabled-fill-color: #666;\n",
              "  }\n",
              "\n",
              "  .colab-df-quickchart {\n",
              "    background-color: var(--bg-color);\n",
              "    border: none;\n",
              "    border-radius: 50%;\n",
              "    cursor: pointer;\n",
              "    display: none;\n",
              "    fill: var(--fill-color);\n",
              "    height: 32px;\n",
              "    padding: 0;\n",
              "    width: 32px;\n",
              "  }\n",
              "\n",
              "  .colab-df-quickchart:hover {\n",
              "    background-color: var(--hover-bg-color);\n",
              "    box-shadow: 0 1px 2px rgba(60, 64, 67, 0.3), 0 1px 3px 1px rgba(60, 64, 67, 0.15);\n",
              "    fill: var(--button-hover-fill-color);\n",
              "  }\n",
              "\n",
              "  .colab-df-quickchart-complete:disabled,\n",
              "  .colab-df-quickchart-complete:disabled:hover {\n",
              "    background-color: var(--disabled-bg-color);\n",
              "    fill: var(--disabled-fill-color);\n",
              "    box-shadow: none;\n",
              "  }\n",
              "\n",
              "  .colab-df-spinner {\n",
              "    border: 2px solid var(--fill-color);\n",
              "    border-color: transparent;\n",
              "    border-bottom-color: var(--fill-color);\n",
              "    animation:\n",
              "      spin 1s steps(1) infinite;\n",
              "  }\n",
              "\n",
              "  @keyframes spin {\n",
              "    0% {\n",
              "      border-color: transparent;\n",
              "      border-bottom-color: var(--fill-color);\n",
              "      border-left-color: var(--fill-color);\n",
              "    }\n",
              "    20% {\n",
              "      border-color: transparent;\n",
              "      border-left-color: var(--fill-color);\n",
              "      border-top-color: var(--fill-color);\n",
              "    }\n",
              "    30% {\n",
              "      border-color: transparent;\n",
              "      border-left-color: var(--fill-color);\n",
              "      border-top-color: var(--fill-color);\n",
              "      border-right-color: var(--fill-color);\n",
              "    }\n",
              "    40% {\n",
              "      border-color: transparent;\n",
              "      border-right-color: var(--fill-color);\n",
              "      border-top-color: var(--fill-color);\n",
              "    }\n",
              "    60% {\n",
              "      border-color: transparent;\n",
              "      border-right-color: var(--fill-color);\n",
              "    }\n",
              "    80% {\n",
              "      border-color: transparent;\n",
              "      border-right-color: var(--fill-color);\n",
              "      border-bottom-color: var(--fill-color);\n",
              "    }\n",
              "    90% {\n",
              "      border-color: transparent;\n",
              "      border-bottom-color: var(--fill-color);\n",
              "    }\n",
              "  }\n",
              "</style>\n",
              "\n",
              "  <script>\n",
              "    async function quickchart(key) {\n",
              "      const quickchartButtonEl =\n",
              "        document.querySelector('#' + key + ' button');\n",
              "      quickchartButtonEl.disabled = true;  // To prevent multiple clicks.\n",
              "      quickchartButtonEl.classList.add('colab-df-spinner');\n",
              "      try {\n",
              "        const charts = await google.colab.kernel.invokeFunction(\n",
              "            'suggestCharts', [key], {});\n",
              "      } catch (error) {\n",
              "        console.error('Error during call to suggestCharts:', error);\n",
              "      }\n",
              "      quickchartButtonEl.classList.remove('colab-df-spinner');\n",
              "      quickchartButtonEl.classList.add('colab-df-quickchart-complete');\n",
              "    }\n",
              "    (() => {\n",
              "      let quickchartButtonEl =\n",
              "        document.querySelector('#df-51e2efbe-60da-4795-aa78-6b7bce91c554 button');\n",
              "      quickchartButtonEl.style.display =\n",
              "        google.colab.kernel.accessAllowed ? 'block' : 'none';\n",
              "    })();\n",
              "  </script>\n",
              "</div>\n",
              "\n",
              "    </div>\n",
              "  </div>\n"
            ],
            "application/vnd.google.colaboratory.intrinsic+json": {
              "type": "dataframe",
              "variable_name": "df",
              "summary": "{\n  \"name\": \"df\",\n  \"rows\": 5555,\n  \"fields\": [\n    {\n      \"column\": \"timestamp\",\n      \"properties\": {\n        \"dtype\": \"object\",\n        \"num_unique_values\": 5555,\n        \"samples\": [\n          \"2005-04-27\",\n          \"2006-01-31\",\n          \"2013-04-30\"\n        ],\n        \"semantic_type\": \"\",\n        \"description\": \"\"\n      }\n    },\n    {\n      \"column\": \"open\",\n      \"properties\": {\n        \"dtype\": \"number\",\n        \"std\": 183.17693944406952,\n        \"min\": 5.29,\n        \"max\": 708.9,\n        \"num_unique_values\": 4863,\n        \"samples\": [\n          567.2,\n          97.51,\n          216.98\n        ],\n        \"semantic_type\": \"\",\n        \"description\": \"\"\n      }\n    },\n    {\n      \"column\": \"high\",\n      \"properties\": {\n        \"dtype\": \"number\",\n        \"std\": 185.4916692904882,\n        \"min\": 5.75,\n        \"max\": 716.16,\n        \"num_unique_values\": 4905,\n        \"samples\": [\n          47.92,\n          48.2,\n          490.06\n        ],\n        \"semantic_type\": \"\",\n        \"description\": \"\"\n      }\n    },\n    {\n      \"column\": \"low\",\n      \"properties\": {\n        \"dtype\": \"number\",\n        \"std\": 180.76006143717058,\n        \"min\": 4.85,\n        \"max\": 697.57,\n        \"num_unique_values\": 4880,\n        \"samples\": [\n          27.75,\n          507.0,\n          337.635\n        ],\n        \"semantic_type\": \"\",\n        \"description\": \"\"\n      }\n    },\n    {\n      \"column\": \"close\",\n      \"properties\": {\n        \"dtype\": \"number\",\n        \"std\": 183.19654851025513,\n        \"min\": 5.22,\n        \"max\": 707.61,\n        \"num_unique_values\": 4960,\n        \"samples\": [\n          286.62,\n          658.64,\n          356.56\n        ],\n        \"semantic_type\": \"\",\n        \"description\": \"\"\n      }\n    },\n    {\n      \"column\": \"adjusted_close\",\n      \"properties\": {\n        \"dtype\": \"number\",\n        \"std\": 184.03441791033967,\n        \"min\": 0.37285677,\n        \"max\": 691.69,\n        \"num_unique_values\": 5076,\n        \"samples\": [\n          523.28,\n          1.959283755,\n          550.64\n        ],\n        \"semantic_type\": \"\",\n        \"description\": \"\"\n      }\n    },\n    {\n      \"column\": \"volume\",\n      \"properties\": {\n        \"dtype\": \"number\",\n        \"std\": 5995827,\n        \"min\": 20400,\n        \"max\": 132644607,\n        \"num_unique_values\": 5473,\n        \"samples\": [\n          209700,\n          3296600,\n          8961126\n        ],\n        \"semantic_type\": \"\",\n        \"description\": \"\"\n      }\n    },\n    {\n      \"column\": \"dividend_amount\",\n      \"properties\": {\n        \"dtype\": \"number\",\n        \"std\": 0,\n        \"min\": 0,\n        \"max\": 0,\n        \"num_unique_values\": 1,\n        \"samples\": [\n          0\n        ],\n        \"semantic_type\": \"\",\n        \"description\": \"\"\n      }\n    },\n    {\n      \"column\": \"split_coefficient\",\n      \"properties\": {\n        \"dtype\": \"number\",\n        \"std\": 0.0816106135247407,\n        \"min\": 1.0,\n        \"max\": 7.000007,\n        \"num_unique_values\": 3,\n        \"samples\": [\n          1.0\n        ],\n        \"semantic_type\": \"\",\n        \"description\": \"\"\n      }\n    }\n  ]\n}"
            }
          },
          "metadata": {},
          "execution_count": 13
        }
      ]
    }
  ]
}