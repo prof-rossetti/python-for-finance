{
  "nbformat": 4,
  "nbformat_minor": 0,
  "metadata": {
    "colab": {
      "provenance": [],
      "toc_visible": true
    },
    "kernelspec": {
      "name": "python3",
      "display_name": "Python 3"
    },
    "language_info": {
      "name": "python"
    }
  },
  "cells": [
    {
      "cell_type": "markdown",
      "source": [
        "# Basic Summary Statistics"
      ],
      "metadata": {
        "id": "sDXJ6LdZSlY5"
      }
    },
    {
      "cell_type": "code",
      "source": [
        "from pandas import read_csv\n",
        "\n",
        "df = read_csv(\"https://raw.githubusercontent.com/prof-rossetti/python-for-finance/main/docs/data/monthly-indicators.csv\")\n",
        "df.head()"
      ],
      "metadata": {
        "colab": {
          "base_uri": "https://localhost:8080/",
          "height": 206
        },
        "id": "TRqYcMkMURas",
        "outputId": "e1f9b690-2483-42cf-dee7-5f91fdbb6e28"
      },
      "execution_count": 23,
      "outputs": [
        {
          "output_type": "execute_result",
          "data": {
            "text/plain": [
              "    timestamp      cpi   fed       spy     gld\n",
              "0  2024-05-01  314.069  5.33  525.6718  215.30\n",
              "1  2024-04-01  313.548  5.33  500.3636  211.87\n",
              "2  2024-03-01  312.332  5.33  521.3857  205.72\n",
              "3  2024-02-01  310.326  5.33  504.8645  189.31\n",
              "4  2024-01-01  308.417  5.33  479.8240  188.45"
            ],
            "text/html": [
              "\n",
              "  <div id=\"df-59f52cd5-3e2d-43db-a3e1-c0732b6111bb\" class=\"colab-df-container\">\n",
              "    <div>\n",
              "<style scoped>\n",
              "    .dataframe tbody tr th:only-of-type {\n",
              "        vertical-align: middle;\n",
              "    }\n",
              "\n",
              "    .dataframe tbody tr th {\n",
              "        vertical-align: top;\n",
              "    }\n",
              "\n",
              "    .dataframe thead th {\n",
              "        text-align: right;\n",
              "    }\n",
              "</style>\n",
              "<table border=\"1\" class=\"dataframe\">\n",
              "  <thead>\n",
              "    <tr style=\"text-align: right;\">\n",
              "      <th></th>\n",
              "      <th>timestamp</th>\n",
              "      <th>cpi</th>\n",
              "      <th>fed</th>\n",
              "      <th>spy</th>\n",
              "      <th>gld</th>\n",
              "    </tr>\n",
              "  </thead>\n",
              "  <tbody>\n",
              "    <tr>\n",
              "      <th>0</th>\n",
              "      <td>2024-05-01</td>\n",
              "      <td>314.069</td>\n",
              "      <td>5.33</td>\n",
              "      <td>525.6718</td>\n",
              "      <td>215.30</td>\n",
              "    </tr>\n",
              "    <tr>\n",
              "      <th>1</th>\n",
              "      <td>2024-04-01</td>\n",
              "      <td>313.548</td>\n",
              "      <td>5.33</td>\n",
              "      <td>500.3636</td>\n",
              "      <td>211.87</td>\n",
              "    </tr>\n",
              "    <tr>\n",
              "      <th>2</th>\n",
              "      <td>2024-03-01</td>\n",
              "      <td>312.332</td>\n",
              "      <td>5.33</td>\n",
              "      <td>521.3857</td>\n",
              "      <td>205.72</td>\n",
              "    </tr>\n",
              "    <tr>\n",
              "      <th>3</th>\n",
              "      <td>2024-02-01</td>\n",
              "      <td>310.326</td>\n",
              "      <td>5.33</td>\n",
              "      <td>504.8645</td>\n",
              "      <td>189.31</td>\n",
              "    </tr>\n",
              "    <tr>\n",
              "      <th>4</th>\n",
              "      <td>2024-01-01</td>\n",
              "      <td>308.417</td>\n",
              "      <td>5.33</td>\n",
              "      <td>479.8240</td>\n",
              "      <td>188.45</td>\n",
              "    </tr>\n",
              "  </tbody>\n",
              "</table>\n",
              "</div>\n",
              "    <div class=\"colab-df-buttons\">\n",
              "\n",
              "  <div class=\"colab-df-container\">\n",
              "    <button class=\"colab-df-convert\" onclick=\"convertToInteractive('df-59f52cd5-3e2d-43db-a3e1-c0732b6111bb')\"\n",
              "            title=\"Convert this dataframe to an interactive table.\"\n",
              "            style=\"display:none;\">\n",
              "\n",
              "  <svg xmlns=\"http://www.w3.org/2000/svg\" height=\"24px\" viewBox=\"0 -960 960 960\">\n",
              "    <path d=\"M120-120v-720h720v720H120Zm60-500h600v-160H180v160Zm220 220h160v-160H400v160Zm0 220h160v-160H400v160ZM180-400h160v-160H180v160Zm440 0h160v-160H620v160ZM180-180h160v-160H180v160Zm440 0h160v-160H620v160Z\"/>\n",
              "  </svg>\n",
              "    </button>\n",
              "\n",
              "  <style>\n",
              "    .colab-df-container {\n",
              "      display:flex;\n",
              "      gap: 12px;\n",
              "    }\n",
              "\n",
              "    .colab-df-convert {\n",
              "      background-color: #E8F0FE;\n",
              "      border: none;\n",
              "      border-radius: 50%;\n",
              "      cursor: pointer;\n",
              "      display: none;\n",
              "      fill: #1967D2;\n",
              "      height: 32px;\n",
              "      padding: 0 0 0 0;\n",
              "      width: 32px;\n",
              "    }\n",
              "\n",
              "    .colab-df-convert:hover {\n",
              "      background-color: #E2EBFA;\n",
              "      box-shadow: 0px 1px 2px rgba(60, 64, 67, 0.3), 0px 1px 3px 1px rgba(60, 64, 67, 0.15);\n",
              "      fill: #174EA6;\n",
              "    }\n",
              "\n",
              "    .colab-df-buttons div {\n",
              "      margin-bottom: 4px;\n",
              "    }\n",
              "\n",
              "    [theme=dark] .colab-df-convert {\n",
              "      background-color: #3B4455;\n",
              "      fill: #D2E3FC;\n",
              "    }\n",
              "\n",
              "    [theme=dark] .colab-df-convert:hover {\n",
              "      background-color: #434B5C;\n",
              "      box-shadow: 0px 1px 3px 1px rgba(0, 0, 0, 0.15);\n",
              "      filter: drop-shadow(0px 1px 2px rgba(0, 0, 0, 0.3));\n",
              "      fill: #FFFFFF;\n",
              "    }\n",
              "  </style>\n",
              "\n",
              "    <script>\n",
              "      const buttonEl =\n",
              "        document.querySelector('#df-59f52cd5-3e2d-43db-a3e1-c0732b6111bb button.colab-df-convert');\n",
              "      buttonEl.style.display =\n",
              "        google.colab.kernel.accessAllowed ? 'block' : 'none';\n",
              "\n",
              "      async function convertToInteractive(key) {\n",
              "        const element = document.querySelector('#df-59f52cd5-3e2d-43db-a3e1-c0732b6111bb');\n",
              "        const dataTable =\n",
              "          await google.colab.kernel.invokeFunction('convertToInteractive',\n",
              "                                                    [key], {});\n",
              "        if (!dataTable) return;\n",
              "\n",
              "        const docLinkHtml = 'Like what you see? Visit the ' +\n",
              "          '<a target=\"_blank\" href=https://colab.research.google.com/notebooks/data_table.ipynb>data table notebook</a>'\n",
              "          + ' to learn more about interactive tables.';\n",
              "        element.innerHTML = '';\n",
              "        dataTable['output_type'] = 'display_data';\n",
              "        await google.colab.output.renderOutput(dataTable, element);\n",
              "        const docLink = document.createElement('div');\n",
              "        docLink.innerHTML = docLinkHtml;\n",
              "        element.appendChild(docLink);\n",
              "      }\n",
              "    </script>\n",
              "  </div>\n",
              "\n",
              "\n",
              "<div id=\"df-cce2e112-cceb-433a-8eeb-a4ac3062471a\">\n",
              "  <button class=\"colab-df-quickchart\" onclick=\"quickchart('df-cce2e112-cceb-433a-8eeb-a4ac3062471a')\"\n",
              "            title=\"Suggest charts\"\n",
              "            style=\"display:none;\">\n",
              "\n",
              "<svg xmlns=\"http://www.w3.org/2000/svg\" height=\"24px\"viewBox=\"0 0 24 24\"\n",
              "     width=\"24px\">\n",
              "    <g>\n",
              "        <path d=\"M19 3H5c-1.1 0-2 .9-2 2v14c0 1.1.9 2 2 2h14c1.1 0 2-.9 2-2V5c0-1.1-.9-2-2-2zM9 17H7v-7h2v7zm4 0h-2V7h2v10zm4 0h-2v-4h2v4z\"/>\n",
              "    </g>\n",
              "</svg>\n",
              "  </button>\n",
              "\n",
              "<style>\n",
              "  .colab-df-quickchart {\n",
              "      --bg-color: #E8F0FE;\n",
              "      --fill-color: #1967D2;\n",
              "      --hover-bg-color: #E2EBFA;\n",
              "      --hover-fill-color: #174EA6;\n",
              "      --disabled-fill-color: #AAA;\n",
              "      --disabled-bg-color: #DDD;\n",
              "  }\n",
              "\n",
              "  [theme=dark] .colab-df-quickchart {\n",
              "      --bg-color: #3B4455;\n",
              "      --fill-color: #D2E3FC;\n",
              "      --hover-bg-color: #434B5C;\n",
              "      --hover-fill-color: #FFFFFF;\n",
              "      --disabled-bg-color: #3B4455;\n",
              "      --disabled-fill-color: #666;\n",
              "  }\n",
              "\n",
              "  .colab-df-quickchart {\n",
              "    background-color: var(--bg-color);\n",
              "    border: none;\n",
              "    border-radius: 50%;\n",
              "    cursor: pointer;\n",
              "    display: none;\n",
              "    fill: var(--fill-color);\n",
              "    height: 32px;\n",
              "    padding: 0;\n",
              "    width: 32px;\n",
              "  }\n",
              "\n",
              "  .colab-df-quickchart:hover {\n",
              "    background-color: var(--hover-bg-color);\n",
              "    box-shadow: 0 1px 2px rgba(60, 64, 67, 0.3), 0 1px 3px 1px rgba(60, 64, 67, 0.15);\n",
              "    fill: var(--button-hover-fill-color);\n",
              "  }\n",
              "\n",
              "  .colab-df-quickchart-complete:disabled,\n",
              "  .colab-df-quickchart-complete:disabled:hover {\n",
              "    background-color: var(--disabled-bg-color);\n",
              "    fill: var(--disabled-fill-color);\n",
              "    box-shadow: none;\n",
              "  }\n",
              "\n",
              "  .colab-df-spinner {\n",
              "    border: 2px solid var(--fill-color);\n",
              "    border-color: transparent;\n",
              "    border-bottom-color: var(--fill-color);\n",
              "    animation:\n",
              "      spin 1s steps(1) infinite;\n",
              "  }\n",
              "\n",
              "  @keyframes spin {\n",
              "    0% {\n",
              "      border-color: transparent;\n",
              "      border-bottom-color: var(--fill-color);\n",
              "      border-left-color: var(--fill-color);\n",
              "    }\n",
              "    20% {\n",
              "      border-color: transparent;\n",
              "      border-left-color: var(--fill-color);\n",
              "      border-top-color: var(--fill-color);\n",
              "    }\n",
              "    30% {\n",
              "      border-color: transparent;\n",
              "      border-left-color: var(--fill-color);\n",
              "      border-top-color: var(--fill-color);\n",
              "      border-right-color: var(--fill-color);\n",
              "    }\n",
              "    40% {\n",
              "      border-color: transparent;\n",
              "      border-right-color: var(--fill-color);\n",
              "      border-top-color: var(--fill-color);\n",
              "    }\n",
              "    60% {\n",
              "      border-color: transparent;\n",
              "      border-right-color: var(--fill-color);\n",
              "    }\n",
              "    80% {\n",
              "      border-color: transparent;\n",
              "      border-right-color: var(--fill-color);\n",
              "      border-bottom-color: var(--fill-color);\n",
              "    }\n",
              "    90% {\n",
              "      border-color: transparent;\n",
              "      border-bottom-color: var(--fill-color);\n",
              "    }\n",
              "  }\n",
              "</style>\n",
              "\n",
              "  <script>\n",
              "    async function quickchart(key) {\n",
              "      const quickchartButtonEl =\n",
              "        document.querySelector('#' + key + ' button');\n",
              "      quickchartButtonEl.disabled = true;  // To prevent multiple clicks.\n",
              "      quickchartButtonEl.classList.add('colab-df-spinner');\n",
              "      try {\n",
              "        const charts = await google.colab.kernel.invokeFunction(\n",
              "            'suggestCharts', [key], {});\n",
              "      } catch (error) {\n",
              "        console.error('Error during call to suggestCharts:', error);\n",
              "      }\n",
              "      quickchartButtonEl.classList.remove('colab-df-spinner');\n",
              "      quickchartButtonEl.classList.add('colab-df-quickchart-complete');\n",
              "    }\n",
              "    (() => {\n",
              "      let quickchartButtonEl =\n",
              "        document.querySelector('#df-cce2e112-cceb-433a-8eeb-a4ac3062471a button');\n",
              "      quickchartButtonEl.style.display =\n",
              "        google.colab.kernel.accessAllowed ? 'block' : 'none';\n",
              "    })();\n",
              "  </script>\n",
              "</div>\n",
              "\n",
              "    </div>\n",
              "  </div>\n"
            ],
            "application/vnd.google.colaboratory.intrinsic+json": {
              "type": "dataframe",
              "variable_name": "df",
              "summary": "{\n  \"name\": \"df\",\n  \"rows\": 234,\n  \"fields\": [\n    {\n      \"column\": \"timestamp\",\n      \"properties\": {\n        \"dtype\": \"object\",\n        \"num_unique_values\": 234,\n        \"samples\": [\n          \"2018-08-01\",\n          \"2007-03-01\",\n          \"2009-05-01\"\n        ],\n        \"semantic_type\": \"\",\n        \"description\": \"\"\n      }\n    },\n    {\n      \"column\": \"cpi\",\n      \"properties\": {\n        \"dtype\": \"number\",\n        \"std\": 30.29922027086648,\n        \"min\": 190.3,\n        \"max\": 314.069,\n        \"num_unique_values\": 231,\n        \"samples\": [\n          196.8,\n          252.038,\n          307.026\n        ],\n        \"semantic_type\": \"\",\n        \"description\": \"\"\n      }\n    },\n    {\n      \"column\": \"fed\",\n      \"properties\": {\n        \"dtype\": \"number\",\n        \"std\": 1.8796570098480136,\n        \"min\": 0.05,\n        \"max\": 5.33,\n        \"num_unique_values\": 106,\n        \"samples\": [\n          3.04,\n          3.08,\n          4.83\n        ],\n        \"semantic_type\": \"\",\n        \"description\": \"\"\n      }\n    },\n    {\n      \"column\": \"spy\",\n      \"properties\": {\n        \"dtype\": \"number\",\n        \"std\": 122.94739811506473,\n        \"min\": 55.1488,\n        \"max\": 525.6718,\n        \"num_unique_values\": 233,\n        \"samples\": [\n          213.6153,\n          92.7153,\n          81.5622\n        ],\n        \"semantic_type\": \"\",\n        \"description\": \"\"\n      }\n    },\n    {\n      \"column\": \"gld\",\n      \"properties\": {\n        \"dtype\": \"number\",\n        \"std\": 40.170234378613976,\n        \"min\": 41.65,\n        \"max\": 215.3,\n        \"num_unique_values\": 229,\n        \"samples\": [\n          56.7,\n          115.15,\n          180.02\n        ],\n        \"semantic_type\": \"\",\n        \"description\": \"\"\n      }\n    }\n  ]\n}"
            }
          },
          "metadata": {},
          "execution_count": 23
        }
      ]
    },
    {
      "cell_type": "code",
      "source": [
        "print(len(df))\n",
        "print(df[\"timestamp\"].min(), \"...\", df[\"timestamp\"].max())"
      ],
      "metadata": {
        "colab": {
          "base_uri": "https://localhost:8080/"
        },
        "id": "w8UKMi9WUasL",
        "outputId": "709b7098-a42c-40ee-e12d-ad7a4789afed"
      },
      "execution_count": 24,
      "outputs": [
        {
          "output_type": "stream",
          "name": "stdout",
          "text": [
            "234\n",
            "2004-12-01 ... 2024-05-01\n"
          ]
        }
      ]
    },
    {
      "cell_type": "markdown",
      "source": [
        "https://pandas.pydata.org/docs/reference/api/pandas.DataFrame.describe.html\n",
        "\n",
        "We can use the describe method to quickly see the basic summary statistics for each column:"
      ],
      "metadata": {
        "id": "keiqL_aZFF9h"
      }
    },
    {
      "cell_type": "code",
      "source": [
        "df.describe()"
      ],
      "metadata": {
        "colab": {
          "base_uri": "https://localhost:8080/",
          "height": 300
        },
        "id": "RJJXZLICFECl",
        "outputId": "0599dd65-7cf5-4419-d73d-93c40c44b237"
      },
      "execution_count": 25,
      "outputs": [
        {
          "output_type": "execute_result",
          "data": {
            "text/plain": [
              "              cpi         fed         spy         gld\n",
              "count  234.000000  234.000000  234.000000  234.000000\n",
              "mean   239.904709    1.588761  199.248881  124.362344\n",
              "std     30.299220    1.879657  122.947398   40.170234\n",
              "min    190.300000    0.050000   55.148800   41.650000\n",
              "25%    216.963500    0.120000   98.790475  101.575000\n",
              "50%    236.409000    0.390000  164.878300  123.360000\n",
              "75%    256.327500    2.480000  270.226075  159.787500\n",
              "max    314.069000    5.330000  525.671800  215.300000"
            ],
            "text/html": [
              "\n",
              "  <div id=\"df-1180ef47-8897-4ca4-8a5f-cf1167405bc9\" class=\"colab-df-container\">\n",
              "    <div>\n",
              "<style scoped>\n",
              "    .dataframe tbody tr th:only-of-type {\n",
              "        vertical-align: middle;\n",
              "    }\n",
              "\n",
              "    .dataframe tbody tr th {\n",
              "        vertical-align: top;\n",
              "    }\n",
              "\n",
              "    .dataframe thead th {\n",
              "        text-align: right;\n",
              "    }\n",
              "</style>\n",
              "<table border=\"1\" class=\"dataframe\">\n",
              "  <thead>\n",
              "    <tr style=\"text-align: right;\">\n",
              "      <th></th>\n",
              "      <th>cpi</th>\n",
              "      <th>fed</th>\n",
              "      <th>spy</th>\n",
              "      <th>gld</th>\n",
              "    </tr>\n",
              "  </thead>\n",
              "  <tbody>\n",
              "    <tr>\n",
              "      <th>count</th>\n",
              "      <td>234.000000</td>\n",
              "      <td>234.000000</td>\n",
              "      <td>234.000000</td>\n",
              "      <td>234.000000</td>\n",
              "    </tr>\n",
              "    <tr>\n",
              "      <th>mean</th>\n",
              "      <td>239.904709</td>\n",
              "      <td>1.588761</td>\n",
              "      <td>199.248881</td>\n",
              "      <td>124.362344</td>\n",
              "    </tr>\n",
              "    <tr>\n",
              "      <th>std</th>\n",
              "      <td>30.299220</td>\n",
              "      <td>1.879657</td>\n",
              "      <td>122.947398</td>\n",
              "      <td>40.170234</td>\n",
              "    </tr>\n",
              "    <tr>\n",
              "      <th>min</th>\n",
              "      <td>190.300000</td>\n",
              "      <td>0.050000</td>\n",
              "      <td>55.148800</td>\n",
              "      <td>41.650000</td>\n",
              "    </tr>\n",
              "    <tr>\n",
              "      <th>25%</th>\n",
              "      <td>216.963500</td>\n",
              "      <td>0.120000</td>\n",
              "      <td>98.790475</td>\n",
              "      <td>101.575000</td>\n",
              "    </tr>\n",
              "    <tr>\n",
              "      <th>50%</th>\n",
              "      <td>236.409000</td>\n",
              "      <td>0.390000</td>\n",
              "      <td>164.878300</td>\n",
              "      <td>123.360000</td>\n",
              "    </tr>\n",
              "    <tr>\n",
              "      <th>75%</th>\n",
              "      <td>256.327500</td>\n",
              "      <td>2.480000</td>\n",
              "      <td>270.226075</td>\n",
              "      <td>159.787500</td>\n",
              "    </tr>\n",
              "    <tr>\n",
              "      <th>max</th>\n",
              "      <td>314.069000</td>\n",
              "      <td>5.330000</td>\n",
              "      <td>525.671800</td>\n",
              "      <td>215.300000</td>\n",
              "    </tr>\n",
              "  </tbody>\n",
              "</table>\n",
              "</div>\n",
              "    <div class=\"colab-df-buttons\">\n",
              "\n",
              "  <div class=\"colab-df-container\">\n",
              "    <button class=\"colab-df-convert\" onclick=\"convertToInteractive('df-1180ef47-8897-4ca4-8a5f-cf1167405bc9')\"\n",
              "            title=\"Convert this dataframe to an interactive table.\"\n",
              "            style=\"display:none;\">\n",
              "\n",
              "  <svg xmlns=\"http://www.w3.org/2000/svg\" height=\"24px\" viewBox=\"0 -960 960 960\">\n",
              "    <path d=\"M120-120v-720h720v720H120Zm60-500h600v-160H180v160Zm220 220h160v-160H400v160Zm0 220h160v-160H400v160ZM180-400h160v-160H180v160Zm440 0h160v-160H620v160ZM180-180h160v-160H180v160Zm440 0h160v-160H620v160Z\"/>\n",
              "  </svg>\n",
              "    </button>\n",
              "\n",
              "  <style>\n",
              "    .colab-df-container {\n",
              "      display:flex;\n",
              "      gap: 12px;\n",
              "    }\n",
              "\n",
              "    .colab-df-convert {\n",
              "      background-color: #E8F0FE;\n",
              "      border: none;\n",
              "      border-radius: 50%;\n",
              "      cursor: pointer;\n",
              "      display: none;\n",
              "      fill: #1967D2;\n",
              "      height: 32px;\n",
              "      padding: 0 0 0 0;\n",
              "      width: 32px;\n",
              "    }\n",
              "\n",
              "    .colab-df-convert:hover {\n",
              "      background-color: #E2EBFA;\n",
              "      box-shadow: 0px 1px 2px rgba(60, 64, 67, 0.3), 0px 1px 3px 1px rgba(60, 64, 67, 0.15);\n",
              "      fill: #174EA6;\n",
              "    }\n",
              "\n",
              "    .colab-df-buttons div {\n",
              "      margin-bottom: 4px;\n",
              "    }\n",
              "\n",
              "    [theme=dark] .colab-df-convert {\n",
              "      background-color: #3B4455;\n",
              "      fill: #D2E3FC;\n",
              "    }\n",
              "\n",
              "    [theme=dark] .colab-df-convert:hover {\n",
              "      background-color: #434B5C;\n",
              "      box-shadow: 0px 1px 3px 1px rgba(0, 0, 0, 0.15);\n",
              "      filter: drop-shadow(0px 1px 2px rgba(0, 0, 0, 0.3));\n",
              "      fill: #FFFFFF;\n",
              "    }\n",
              "  </style>\n",
              "\n",
              "    <script>\n",
              "      const buttonEl =\n",
              "        document.querySelector('#df-1180ef47-8897-4ca4-8a5f-cf1167405bc9 button.colab-df-convert');\n",
              "      buttonEl.style.display =\n",
              "        google.colab.kernel.accessAllowed ? 'block' : 'none';\n",
              "\n",
              "      async function convertToInteractive(key) {\n",
              "        const element = document.querySelector('#df-1180ef47-8897-4ca4-8a5f-cf1167405bc9');\n",
              "        const dataTable =\n",
              "          await google.colab.kernel.invokeFunction('convertToInteractive',\n",
              "                                                    [key], {});\n",
              "        if (!dataTable) return;\n",
              "\n",
              "        const docLinkHtml = 'Like what you see? Visit the ' +\n",
              "          '<a target=\"_blank\" href=https://colab.research.google.com/notebooks/data_table.ipynb>data table notebook</a>'\n",
              "          + ' to learn more about interactive tables.';\n",
              "        element.innerHTML = '';\n",
              "        dataTable['output_type'] = 'display_data';\n",
              "        await google.colab.output.renderOutput(dataTable, element);\n",
              "        const docLink = document.createElement('div');\n",
              "        docLink.innerHTML = docLinkHtml;\n",
              "        element.appendChild(docLink);\n",
              "      }\n",
              "    </script>\n",
              "  </div>\n",
              "\n",
              "\n",
              "<div id=\"df-62be4894-56b7-4215-8cc5-039c51aa8d8f\">\n",
              "  <button class=\"colab-df-quickchart\" onclick=\"quickchart('df-62be4894-56b7-4215-8cc5-039c51aa8d8f')\"\n",
              "            title=\"Suggest charts\"\n",
              "            style=\"display:none;\">\n",
              "\n",
              "<svg xmlns=\"http://www.w3.org/2000/svg\" height=\"24px\"viewBox=\"0 0 24 24\"\n",
              "     width=\"24px\">\n",
              "    <g>\n",
              "        <path d=\"M19 3H5c-1.1 0-2 .9-2 2v14c0 1.1.9 2 2 2h14c1.1 0 2-.9 2-2V5c0-1.1-.9-2-2-2zM9 17H7v-7h2v7zm4 0h-2V7h2v10zm4 0h-2v-4h2v4z\"/>\n",
              "    </g>\n",
              "</svg>\n",
              "  </button>\n",
              "\n",
              "<style>\n",
              "  .colab-df-quickchart {\n",
              "      --bg-color: #E8F0FE;\n",
              "      --fill-color: #1967D2;\n",
              "      --hover-bg-color: #E2EBFA;\n",
              "      --hover-fill-color: #174EA6;\n",
              "      --disabled-fill-color: #AAA;\n",
              "      --disabled-bg-color: #DDD;\n",
              "  }\n",
              "\n",
              "  [theme=dark] .colab-df-quickchart {\n",
              "      --bg-color: #3B4455;\n",
              "      --fill-color: #D2E3FC;\n",
              "      --hover-bg-color: #434B5C;\n",
              "      --hover-fill-color: #FFFFFF;\n",
              "      --disabled-bg-color: #3B4455;\n",
              "      --disabled-fill-color: #666;\n",
              "  }\n",
              "\n",
              "  .colab-df-quickchart {\n",
              "    background-color: var(--bg-color);\n",
              "    border: none;\n",
              "    border-radius: 50%;\n",
              "    cursor: pointer;\n",
              "    display: none;\n",
              "    fill: var(--fill-color);\n",
              "    height: 32px;\n",
              "    padding: 0;\n",
              "    width: 32px;\n",
              "  }\n",
              "\n",
              "  .colab-df-quickchart:hover {\n",
              "    background-color: var(--hover-bg-color);\n",
              "    box-shadow: 0 1px 2px rgba(60, 64, 67, 0.3), 0 1px 3px 1px rgba(60, 64, 67, 0.15);\n",
              "    fill: var(--button-hover-fill-color);\n",
              "  }\n",
              "\n",
              "  .colab-df-quickchart-complete:disabled,\n",
              "  .colab-df-quickchart-complete:disabled:hover {\n",
              "    background-color: var(--disabled-bg-color);\n",
              "    fill: var(--disabled-fill-color);\n",
              "    box-shadow: none;\n",
              "  }\n",
              "\n",
              "  .colab-df-spinner {\n",
              "    border: 2px solid var(--fill-color);\n",
              "    border-color: transparent;\n",
              "    border-bottom-color: var(--fill-color);\n",
              "    animation:\n",
              "      spin 1s steps(1) infinite;\n",
              "  }\n",
              "\n",
              "  @keyframes spin {\n",
              "    0% {\n",
              "      border-color: transparent;\n",
              "      border-bottom-color: var(--fill-color);\n",
              "      border-left-color: var(--fill-color);\n",
              "    }\n",
              "    20% {\n",
              "      border-color: transparent;\n",
              "      border-left-color: var(--fill-color);\n",
              "      border-top-color: var(--fill-color);\n",
              "    }\n",
              "    30% {\n",
              "      border-color: transparent;\n",
              "      border-left-color: var(--fill-color);\n",
              "      border-top-color: var(--fill-color);\n",
              "      border-right-color: var(--fill-color);\n",
              "    }\n",
              "    40% {\n",
              "      border-color: transparent;\n",
              "      border-right-color: var(--fill-color);\n",
              "      border-top-color: var(--fill-color);\n",
              "    }\n",
              "    60% {\n",
              "      border-color: transparent;\n",
              "      border-right-color: var(--fill-color);\n",
              "    }\n",
              "    80% {\n",
              "      border-color: transparent;\n",
              "      border-right-color: var(--fill-color);\n",
              "      border-bottom-color: var(--fill-color);\n",
              "    }\n",
              "    90% {\n",
              "      border-color: transparent;\n",
              "      border-bottom-color: var(--fill-color);\n",
              "    }\n",
              "  }\n",
              "</style>\n",
              "\n",
              "  <script>\n",
              "    async function quickchart(key) {\n",
              "      const quickchartButtonEl =\n",
              "        document.querySelector('#' + key + ' button');\n",
              "      quickchartButtonEl.disabled = true;  // To prevent multiple clicks.\n",
              "      quickchartButtonEl.classList.add('colab-df-spinner');\n",
              "      try {\n",
              "        const charts = await google.colab.kernel.invokeFunction(\n",
              "            'suggestCharts', [key], {});\n",
              "      } catch (error) {\n",
              "        console.error('Error during call to suggestCharts:', error);\n",
              "      }\n",
              "      quickchartButtonEl.classList.remove('colab-df-spinner');\n",
              "      quickchartButtonEl.classList.add('colab-df-quickchart-complete');\n",
              "    }\n",
              "    (() => {\n",
              "      let quickchartButtonEl =\n",
              "        document.querySelector('#df-62be4894-56b7-4215-8cc5-039c51aa8d8f button');\n",
              "      quickchartButtonEl.style.display =\n",
              "        google.colab.kernel.accessAllowed ? 'block' : 'none';\n",
              "    })();\n",
              "  </script>\n",
              "</div>\n",
              "\n",
              "    </div>\n",
              "  </div>\n"
            ],
            "application/vnd.google.colaboratory.intrinsic+json": {
              "type": "dataframe",
              "summary": "{\n  \"name\": \"df\",\n  \"rows\": 8,\n  \"fields\": [\n    {\n      \"column\": \"cpi\",\n      \"properties\": {\n        \"dtype\": \"number\",\n        \"std\": 82.54018014358134,\n        \"min\": 30.29922027086648,\n        \"max\": 314.069,\n        \"num_unique_values\": 8,\n        \"samples\": [\n          239.90470940170943,\n          236.409,\n          234.0\n        ],\n        \"semantic_type\": \"\",\n        \"description\": \"\"\n      }\n    },\n    {\n      \"column\": \"fed\",\n      \"properties\": {\n        \"dtype\": \"number\",\n        \"std\": 82.151619077361,\n        \"min\": 0.05,\n        \"max\": 234.0,\n        \"num_unique_values\": 8,\n        \"samples\": [\n          1.5887606837606836,\n          0.39,\n          234.0\n        ],\n        \"semantic_type\": \"\",\n        \"description\": \"\"\n      }\n    },\n    {\n      \"column\": \"spy\",\n      \"properties\": {\n        \"dtype\": \"number\",\n        \"std\": 146.34484875695313,\n        \"min\": 55.1488,\n        \"max\": 525.6718,\n        \"num_unique_values\": 8,\n        \"samples\": [\n          199.24888076923074,\n          164.8783,\n          234.0\n        ],\n        \"semantic_type\": \"\",\n        \"description\": \"\"\n      }\n    },\n    {\n      \"column\": \"gld\",\n      \"properties\": {\n        \"dtype\": \"number\",\n        \"std\": 71.4526242403622,\n        \"min\": 40.170234378613976,\n        \"max\": 234.0,\n        \"num_unique_values\": 8,\n        \"samples\": [\n          124.36234444444445,\n          123.36,\n          234.0\n        ],\n        \"semantic_type\": \"\",\n        \"description\": \"\"\n      }\n    }\n  ]\n}"
            }
          },
          "metadata": {},
          "execution_count": 25
        }
      ]
    },
    {
      "cell_type": "markdown",
      "source": [
        "As you may be aware, we can calculate these individually, using `Series` aggregations:"
      ],
      "metadata": {
        "id": "05YOTLO0FP9k"
      }
    },
    {
      "cell_type": "code",
      "source": [
        "# https://pandas.pydata.org/docs/reference/api/pandas.Series.html\n",
        "# https://pandas.pydata.org/docs/reference/api/pandas.Series.quantile.html\n",
        "\n",
        "series = df[\"fed\"]\n",
        "\n",
        "print(\"COUNT:\", len(series))\n",
        "print(\"MEAN:\", series.mean().round(6))\n",
        "print(\"STD:\", series.std().round(6))\n",
        "print(\"-------------\")\n",
        "print(\"MIN:\", series.min())\n",
        "print(\"25TH:\", series.quantile(.25))\n",
        "print(\"MED:\", series.median())\n",
        "print(\"75TH:\", series.quantile(.75))\n",
        "print(\"MAX:\", series.max())"
      ],
      "metadata": {
        "colab": {
          "base_uri": "https://localhost:8080/"
        },
        "id": "ycmWj5EIFPXw",
        "outputId": "0c6ad693-7afa-4b86-fe07-b33eff0e9968"
      },
      "execution_count": 52,
      "outputs": [
        {
          "output_type": "stream",
          "name": "stdout",
          "text": [
            "COUNT: 234\n",
            "MEAN: 1.588761\n",
            "STD: 1.879657\n",
            "-------------\n",
            "MIN: 0.05\n",
            "25TH: 0.12\n",
            "MED: 0.39\n",
            "75TH: 2.48\n",
            "MAX: 5.33\n"
          ]
        }
      ]
    },
    {
      "cell_type": "code",
      "source": [
        "series.describe() # for comparison"
      ],
      "metadata": {
        "colab": {
          "base_uri": "https://localhost:8080/"
        },
        "id": "AjhCBtTRGgwm",
        "outputId": "eecf3c8e-6e1c-4045-f689-b1f3782631bc"
      },
      "execution_count": 27,
      "outputs": [
        {
          "output_type": "execute_result",
          "data": {
            "text/plain": [
              "count    234.000000\n",
              "mean       1.588761\n",
              "std        1.879657\n",
              "min        0.050000\n",
              "25%        0.120000\n",
              "50%        0.390000\n",
              "75%        2.480000\n",
              "max        5.330000\n",
              "Name: fed, dtype: float64"
            ]
          },
          "metadata": {},
          "execution_count": 27
        }
      ]
    },
    {
      "cell_type": "markdown",
      "source": [
        "## Distribution Plots"
      ],
      "metadata": {
        "id": "xKGf_zb4Y96H"
      }
    },
    {
      "cell_type": "markdown",
      "source": [
        "Let's view some distribution plots of the federal funds rate, to tell a story about the summary statistics for this indicator."
      ],
      "metadata": {
        "id": "7fZhuj2-IrLv"
      }
    },
    {
      "cell_type": "code",
      "source": [
        "import plotly.express as px\n",
        "\n",
        "px.box(df, x=\"fed\", orientation=\"h\", points=\"all\", title=\"Distribution of Federal Funds Rate (Monthly)\", hover_data=[\"timestamp\"],)"
      ],
      "metadata": {
        "colab": {
          "base_uri": "https://localhost:8080/",
          "height": 542
        },
        "id": "x6PXwr8FzaMm",
        "outputId": "ac6c5bfc-fc88-4622-8730-465d7cfcb428"
      },
      "execution_count": 28,
      "outputs": [
        {
          "output_type": "display_data",
          "data": {
            "text/html": [
              "<html>\n",
              "<head><meta charset=\"utf-8\" /></head>\n",
              "<body>\n",
              "    <div>            <script src=\"https://cdnjs.cloudflare.com/ajax/libs/mathjax/2.7.5/MathJax.js?config=TeX-AMS-MML_SVG\"></script><script type=\"text/javascript\">if (window.MathJax && window.MathJax.Hub && window.MathJax.Hub.Config) {window.MathJax.Hub.Config({SVG: {font: \"STIX-Web\"}});}</script>                <script type=\"text/javascript\">window.PlotlyConfig = {MathJaxConfig: 'local'};</script>\n",
              "        <script charset=\"utf-8\" src=\"https://cdn.plot.ly/plotly-2.24.1.min.js\"></script>                <div id=\"fa7c4c9a-70a5-4473-898c-090a41f8cd3a\" class=\"plotly-graph-div\" style=\"height:525px; width:100%;\"></div>            <script type=\"text/javascript\">                                    window.PLOTLYENV=window.PLOTLYENV || {};                                    if (document.getElementById(\"fa7c4c9a-70a5-4473-898c-090a41f8cd3a\")) {                    Plotly.newPlot(                        \"fa7c4c9a-70a5-4473-898c-090a41f8cd3a\",                        [{\"alignmentgroup\":\"True\",\"boxpoints\":\"all\",\"customdata\":[[\"2024-05-01\"],[\"2024-04-01\"],[\"2024-03-01\"],[\"2024-02-01\"],[\"2024-01-01\"],[\"2023-12-01\"],[\"2023-11-01\"],[\"2023-10-01\"],[\"2023-09-01\"],[\"2023-08-01\"],[\"2023-07-01\"],[\"2023-06-01\"],[\"2023-05-01\"],[\"2023-04-01\"],[\"2023-03-01\"],[\"2023-02-01\"],[\"2023-01-01\"],[\"2022-12-01\"],[\"2022-11-01\"],[\"2022-10-01\"],[\"2022-09-01\"],[\"2022-08-01\"],[\"2022-07-01\"],[\"2022-06-01\"],[\"2022-05-01\"],[\"2022-04-01\"],[\"2022-03-01\"],[\"2022-02-01\"],[\"2022-01-01\"],[\"2021-12-01\"],[\"2021-11-01\"],[\"2021-10-01\"],[\"2021-09-01\"],[\"2021-08-01\"],[\"2021-07-01\"],[\"2021-06-01\"],[\"2021-05-01\"],[\"2021-04-01\"],[\"2021-03-01\"],[\"2021-02-01\"],[\"2021-01-01\"],[\"2020-12-01\"],[\"2020-11-01\"],[\"2020-10-01\"],[\"2020-09-01\"],[\"2020-08-01\"],[\"2020-07-01\"],[\"2020-06-01\"],[\"2020-05-01\"],[\"2020-04-01\"],[\"2020-03-01\"],[\"2020-02-01\"],[\"2020-01-01\"],[\"2019-12-01\"],[\"2019-11-01\"],[\"2019-10-01\"],[\"2019-09-01\"],[\"2019-08-01\"],[\"2019-07-01\"],[\"2019-06-01\"],[\"2019-05-01\"],[\"2019-04-01\"],[\"2019-03-01\"],[\"2019-02-01\"],[\"2019-01-01\"],[\"2018-12-01\"],[\"2018-11-01\"],[\"2018-10-01\"],[\"2018-09-01\"],[\"2018-08-01\"],[\"2018-07-01\"],[\"2018-06-01\"],[\"2018-05-01\"],[\"2018-04-01\"],[\"2018-03-01\"],[\"2018-02-01\"],[\"2018-01-01\"],[\"2017-12-01\"],[\"2017-11-01\"],[\"2017-10-01\"],[\"2017-09-01\"],[\"2017-08-01\"],[\"2017-07-01\"],[\"2017-06-01\"],[\"2017-05-01\"],[\"2017-04-01\"],[\"2017-03-01\"],[\"2017-02-01\"],[\"2017-01-01\"],[\"2016-12-01\"],[\"2016-11-01\"],[\"2016-10-01\"],[\"2016-09-01\"],[\"2016-08-01\"],[\"2016-07-01\"],[\"2016-06-01\"],[\"2016-05-01\"],[\"2016-04-01\"],[\"2016-03-01\"],[\"2016-02-01\"],[\"2016-01-01\"],[\"2015-12-01\"],[\"2015-11-01\"],[\"2015-10-01\"],[\"2015-09-01\"],[\"2015-08-01\"],[\"2015-07-01\"],[\"2015-06-01\"],[\"2015-05-01\"],[\"2015-04-01\"],[\"2015-03-01\"],[\"2015-02-01\"],[\"2015-01-01\"],[\"2014-12-01\"],[\"2014-11-01\"],[\"2014-10-01\"],[\"2014-09-01\"],[\"2014-08-01\"],[\"2014-07-01\"],[\"2014-06-01\"],[\"2014-05-01\"],[\"2014-04-01\"],[\"2014-03-01\"],[\"2014-02-01\"],[\"2014-01-01\"],[\"2013-12-01\"],[\"2013-11-01\"],[\"2013-10-01\"],[\"2013-09-01\"],[\"2013-08-01\"],[\"2013-07-01\"],[\"2013-06-01\"],[\"2013-05-01\"],[\"2013-04-01\"],[\"2013-03-01\"],[\"2013-02-01\"],[\"2013-01-01\"],[\"2012-12-01\"],[\"2012-11-01\"],[\"2012-10-01\"],[\"2012-09-01\"],[\"2012-08-01\"],[\"2012-07-01\"],[\"2012-06-01\"],[\"2012-05-01\"],[\"2012-04-01\"],[\"2012-03-01\"],[\"2012-02-01\"],[\"2012-01-01\"],[\"2011-12-01\"],[\"2011-11-01\"],[\"2011-10-01\"],[\"2011-09-01\"],[\"2011-08-01\"],[\"2011-07-01\"],[\"2011-06-01\"],[\"2011-05-01\"],[\"2011-04-01\"],[\"2011-03-01\"],[\"2011-02-01\"],[\"2011-01-01\"],[\"2010-12-01\"],[\"2010-11-01\"],[\"2010-10-01\"],[\"2010-09-01\"],[\"2010-08-01\"],[\"2010-07-01\"],[\"2010-06-01\"],[\"2010-05-01\"],[\"2010-04-01\"],[\"2010-03-01\"],[\"2010-02-01\"],[\"2010-01-01\"],[\"2009-12-01\"],[\"2009-11-01\"],[\"2009-10-01\"],[\"2009-09-01\"],[\"2009-08-01\"],[\"2009-07-01\"],[\"2009-06-01\"],[\"2009-05-01\"],[\"2009-04-01\"],[\"2009-03-01\"],[\"2009-02-01\"],[\"2009-01-01\"],[\"2008-12-01\"],[\"2008-11-01\"],[\"2008-10-01\"],[\"2008-09-01\"],[\"2008-08-01\"],[\"2008-07-01\"],[\"2008-06-01\"],[\"2008-05-01\"],[\"2008-04-01\"],[\"2008-03-01\"],[\"2008-02-01\"],[\"2008-01-01\"],[\"2007-12-01\"],[\"2007-11-01\"],[\"2007-10-01\"],[\"2007-09-01\"],[\"2007-08-01\"],[\"2007-07-01\"],[\"2007-06-01\"],[\"2007-05-01\"],[\"2007-04-01\"],[\"2007-03-01\"],[\"2007-02-01\"],[\"2007-01-01\"],[\"2006-12-01\"],[\"2006-11-01\"],[\"2006-10-01\"],[\"2006-09-01\"],[\"2006-08-01\"],[\"2006-07-01\"],[\"2006-06-01\"],[\"2006-05-01\"],[\"2006-04-01\"],[\"2006-03-01\"],[\"2006-02-01\"],[\"2006-01-01\"],[\"2005-12-01\"],[\"2005-11-01\"],[\"2005-10-01\"],[\"2005-09-01\"],[\"2005-08-01\"],[\"2005-07-01\"],[\"2005-06-01\"],[\"2005-05-01\"],[\"2005-04-01\"],[\"2005-03-01\"],[\"2005-02-01\"],[\"2005-01-01\"],[\"2004-12-01\"]],\"hovertemplate\":\"fed=%{x}\\u003cbr\\u003etimestamp=%{customdata[0]}\\u003cextra\\u003e\\u003c\\u002fextra\\u003e\",\"legendgroup\":\"\",\"marker\":{\"color\":\"#636efa\"},\"name\":\"\",\"notched\":false,\"offsetgroup\":\"\",\"orientation\":\"h\",\"showlegend\":false,\"x\":[5.33,5.33,5.33,5.33,5.33,5.33,5.33,5.33,5.33,5.33,5.12,5.08,5.06,4.83,4.65,4.57,4.33,4.1,3.78,3.08,2.56,2.33,1.68,1.21,0.77,0.33,0.2,0.08,0.08,0.08,0.08,0.08,0.08,0.09,0.1,0.08,0.06,0.07,0.07,0.08,0.09,0.09,0.09,0.09,0.09,0.1,0.09,0.08,0.05,0.05,0.65,1.58,1.55,1.55,1.55,1.83,2.04,2.13,2.4,2.38,2.39,2.42,2.41,2.4,2.4,2.27,2.2,2.19,1.95,1.91,1.91,1.82,1.7,1.69,1.51,1.42,1.41,1.3,1.16,1.15,1.15,1.16,1.15,1.04,0.91,0.9,0.79,0.66,0.65,0.54,0.41,0.4,0.4,0.4,0.39,0.38,0.37,0.37,0.36,0.38,0.34,0.24,0.12,0.12,0.14,0.14,0.13,0.13,0.12,0.12,0.11,0.11,0.11,0.12,0.09,0.09,0.09,0.09,0.09,0.1,0.09,0.09,0.08,0.07,0.07,0.09,0.08,0.09,0.08,0.08,0.09,0.09,0.11,0.15,0.14,0.15,0.14,0.16,0.16,0.16,0.14,0.13,0.16,0.16,0.16,0.14,0.13,0.1,0.08,0.07,0.08,0.07,0.08,0.1,0.07,0.09,0.09,0.1,0.14,0.16,0.17,0.18,0.19,0.19,0.19,0.19,0.18,0.18,0.2,0.2,0.16,0.13,0.11,0.12,0.12,0.12,0.15,0.16,0.16,0.21,0.18,0.15,0.18,0.22,0.15,0.16,0.39,0.97,1.81,2.0,2.01,2.0,1.98,2.28,2.61,2.98,3.94,4.24,4.49,4.76,4.94,5.02,5.26,5.25,5.25,5.25,5.26,5.26,5.25,5.24,5.25,5.25,5.25,5.25,5.24,4.99,4.94,4.79,4.59,4.49,4.29,4.16,4.0,3.78,3.62,3.5,3.26,3.04,3.0,2.79,2.63,2.5,2.28,2.16],\"x0\":\" \",\"xaxis\":\"x\",\"y0\":\" \",\"yaxis\":\"y\",\"type\":\"box\"}],                        {\"template\":{\"data\":{\"histogram2dcontour\":[{\"type\":\"histogram2dcontour\",\"colorbar\":{\"outlinewidth\":0,\"ticks\":\"\"},\"colorscale\":[[0.0,\"#0d0887\"],[0.1111111111111111,\"#46039f\"],[0.2222222222222222,\"#7201a8\"],[0.3333333333333333,\"#9c179e\"],[0.4444444444444444,\"#bd3786\"],[0.5555555555555556,\"#d8576b\"],[0.6666666666666666,\"#ed7953\"],[0.7777777777777778,\"#fb9f3a\"],[0.8888888888888888,\"#fdca26\"],[1.0,\"#f0f921\"]]}],\"choropleth\":[{\"type\":\"choropleth\",\"colorbar\":{\"outlinewidth\":0,\"ticks\":\"\"}}],\"histogram2d\":[{\"type\":\"histogram2d\",\"colorbar\":{\"outlinewidth\":0,\"ticks\":\"\"},\"colorscale\":[[0.0,\"#0d0887\"],[0.1111111111111111,\"#46039f\"],[0.2222222222222222,\"#7201a8\"],[0.3333333333333333,\"#9c179e\"],[0.4444444444444444,\"#bd3786\"],[0.5555555555555556,\"#d8576b\"],[0.6666666666666666,\"#ed7953\"],[0.7777777777777778,\"#fb9f3a\"],[0.8888888888888888,\"#fdca26\"],[1.0,\"#f0f921\"]]}],\"heatmap\":[{\"type\":\"heatmap\",\"colorbar\":{\"outlinewidth\":0,\"ticks\":\"\"},\"colorscale\":[[0.0,\"#0d0887\"],[0.1111111111111111,\"#46039f\"],[0.2222222222222222,\"#7201a8\"],[0.3333333333333333,\"#9c179e\"],[0.4444444444444444,\"#bd3786\"],[0.5555555555555556,\"#d8576b\"],[0.6666666666666666,\"#ed7953\"],[0.7777777777777778,\"#fb9f3a\"],[0.8888888888888888,\"#fdca26\"],[1.0,\"#f0f921\"]]}],\"heatmapgl\":[{\"type\":\"heatmapgl\",\"colorbar\":{\"outlinewidth\":0,\"ticks\":\"\"},\"colorscale\":[[0.0,\"#0d0887\"],[0.1111111111111111,\"#46039f\"],[0.2222222222222222,\"#7201a8\"],[0.3333333333333333,\"#9c179e\"],[0.4444444444444444,\"#bd3786\"],[0.5555555555555556,\"#d8576b\"],[0.6666666666666666,\"#ed7953\"],[0.7777777777777778,\"#fb9f3a\"],[0.8888888888888888,\"#fdca26\"],[1.0,\"#f0f921\"]]}],\"contourcarpet\":[{\"type\":\"contourcarpet\",\"colorbar\":{\"outlinewidth\":0,\"ticks\":\"\"}}],\"contour\":[{\"type\":\"contour\",\"colorbar\":{\"outlinewidth\":0,\"ticks\":\"\"},\"colorscale\":[[0.0,\"#0d0887\"],[0.1111111111111111,\"#46039f\"],[0.2222222222222222,\"#7201a8\"],[0.3333333333333333,\"#9c179e\"],[0.4444444444444444,\"#bd3786\"],[0.5555555555555556,\"#d8576b\"],[0.6666666666666666,\"#ed7953\"],[0.7777777777777778,\"#fb9f3a\"],[0.8888888888888888,\"#fdca26\"],[1.0,\"#f0f921\"]]}],\"surface\":[{\"type\":\"surface\",\"colorbar\":{\"outlinewidth\":0,\"ticks\":\"\"},\"colorscale\":[[0.0,\"#0d0887\"],[0.1111111111111111,\"#46039f\"],[0.2222222222222222,\"#7201a8\"],[0.3333333333333333,\"#9c179e\"],[0.4444444444444444,\"#bd3786\"],[0.5555555555555556,\"#d8576b\"],[0.6666666666666666,\"#ed7953\"],[0.7777777777777778,\"#fb9f3a\"],[0.8888888888888888,\"#fdca26\"],[1.0,\"#f0f921\"]]}],\"mesh3d\":[{\"type\":\"mesh3d\",\"colorbar\":{\"outlinewidth\":0,\"ticks\":\"\"}}],\"scatter\":[{\"fillpattern\":{\"fillmode\":\"overlay\",\"size\":10,\"solidity\":0.2},\"type\":\"scatter\"}],\"parcoords\":[{\"type\":\"parcoords\",\"line\":{\"colorbar\":{\"outlinewidth\":0,\"ticks\":\"\"}}}],\"scatterpolargl\":[{\"type\":\"scatterpolargl\",\"marker\":{\"colorbar\":{\"outlinewidth\":0,\"ticks\":\"\"}}}],\"bar\":[{\"error_x\":{\"color\":\"#2a3f5f\"},\"error_y\":{\"color\":\"#2a3f5f\"},\"marker\":{\"line\":{\"color\":\"#E5ECF6\",\"width\":0.5},\"pattern\":{\"fillmode\":\"overlay\",\"size\":10,\"solidity\":0.2}},\"type\":\"bar\"}],\"scattergeo\":[{\"type\":\"scattergeo\",\"marker\":{\"colorbar\":{\"outlinewidth\":0,\"ticks\":\"\"}}}],\"scatterpolar\":[{\"type\":\"scatterpolar\",\"marker\":{\"colorbar\":{\"outlinewidth\":0,\"ticks\":\"\"}}}],\"histogram\":[{\"marker\":{\"pattern\":{\"fillmode\":\"overlay\",\"size\":10,\"solidity\":0.2}},\"type\":\"histogram\"}],\"scattergl\":[{\"type\":\"scattergl\",\"marker\":{\"colorbar\":{\"outlinewidth\":0,\"ticks\":\"\"}}}],\"scatter3d\":[{\"type\":\"scatter3d\",\"line\":{\"colorbar\":{\"outlinewidth\":0,\"ticks\":\"\"}},\"marker\":{\"colorbar\":{\"outlinewidth\":0,\"ticks\":\"\"}}}],\"scattermapbox\":[{\"type\":\"scattermapbox\",\"marker\":{\"colorbar\":{\"outlinewidth\":0,\"ticks\":\"\"}}}],\"scatterternary\":[{\"type\":\"scatterternary\",\"marker\":{\"colorbar\":{\"outlinewidth\":0,\"ticks\":\"\"}}}],\"scattercarpet\":[{\"type\":\"scattercarpet\",\"marker\":{\"colorbar\":{\"outlinewidth\":0,\"ticks\":\"\"}}}],\"carpet\":[{\"aaxis\":{\"endlinecolor\":\"#2a3f5f\",\"gridcolor\":\"white\",\"linecolor\":\"white\",\"minorgridcolor\":\"white\",\"startlinecolor\":\"#2a3f5f\"},\"baxis\":{\"endlinecolor\":\"#2a3f5f\",\"gridcolor\":\"white\",\"linecolor\":\"white\",\"minorgridcolor\":\"white\",\"startlinecolor\":\"#2a3f5f\"},\"type\":\"carpet\"}],\"table\":[{\"cells\":{\"fill\":{\"color\":\"#EBF0F8\"},\"line\":{\"color\":\"white\"}},\"header\":{\"fill\":{\"color\":\"#C8D4E3\"},\"line\":{\"color\":\"white\"}},\"type\":\"table\"}],\"barpolar\":[{\"marker\":{\"line\":{\"color\":\"#E5ECF6\",\"width\":0.5},\"pattern\":{\"fillmode\":\"overlay\",\"size\":10,\"solidity\":0.2}},\"type\":\"barpolar\"}],\"pie\":[{\"automargin\":true,\"type\":\"pie\"}]},\"layout\":{\"autotypenumbers\":\"strict\",\"colorway\":[\"#636efa\",\"#EF553B\",\"#00cc96\",\"#ab63fa\",\"#FFA15A\",\"#19d3f3\",\"#FF6692\",\"#B6E880\",\"#FF97FF\",\"#FECB52\"],\"font\":{\"color\":\"#2a3f5f\"},\"hovermode\":\"closest\",\"hoverlabel\":{\"align\":\"left\"},\"paper_bgcolor\":\"white\",\"plot_bgcolor\":\"#E5ECF6\",\"polar\":{\"bgcolor\":\"#E5ECF6\",\"angularaxis\":{\"gridcolor\":\"white\",\"linecolor\":\"white\",\"ticks\":\"\"},\"radialaxis\":{\"gridcolor\":\"white\",\"linecolor\":\"white\",\"ticks\":\"\"}},\"ternary\":{\"bgcolor\":\"#E5ECF6\",\"aaxis\":{\"gridcolor\":\"white\",\"linecolor\":\"white\",\"ticks\":\"\"},\"baxis\":{\"gridcolor\":\"white\",\"linecolor\":\"white\",\"ticks\":\"\"},\"caxis\":{\"gridcolor\":\"white\",\"linecolor\":\"white\",\"ticks\":\"\"}},\"coloraxis\":{\"colorbar\":{\"outlinewidth\":0,\"ticks\":\"\"}},\"colorscale\":{\"sequential\":[[0.0,\"#0d0887\"],[0.1111111111111111,\"#46039f\"],[0.2222222222222222,\"#7201a8\"],[0.3333333333333333,\"#9c179e\"],[0.4444444444444444,\"#bd3786\"],[0.5555555555555556,\"#d8576b\"],[0.6666666666666666,\"#ed7953\"],[0.7777777777777778,\"#fb9f3a\"],[0.8888888888888888,\"#fdca26\"],[1.0,\"#f0f921\"]],\"sequentialminus\":[[0.0,\"#0d0887\"],[0.1111111111111111,\"#46039f\"],[0.2222222222222222,\"#7201a8\"],[0.3333333333333333,\"#9c179e\"],[0.4444444444444444,\"#bd3786\"],[0.5555555555555556,\"#d8576b\"],[0.6666666666666666,\"#ed7953\"],[0.7777777777777778,\"#fb9f3a\"],[0.8888888888888888,\"#fdca26\"],[1.0,\"#f0f921\"]],\"diverging\":[[0,\"#8e0152\"],[0.1,\"#c51b7d\"],[0.2,\"#de77ae\"],[0.3,\"#f1b6da\"],[0.4,\"#fde0ef\"],[0.5,\"#f7f7f7\"],[0.6,\"#e6f5d0\"],[0.7,\"#b8e186\"],[0.8,\"#7fbc41\"],[0.9,\"#4d9221\"],[1,\"#276419\"]]},\"xaxis\":{\"gridcolor\":\"white\",\"linecolor\":\"white\",\"ticks\":\"\",\"title\":{\"standoff\":15},\"zerolinecolor\":\"white\",\"automargin\":true,\"zerolinewidth\":2},\"yaxis\":{\"gridcolor\":\"white\",\"linecolor\":\"white\",\"ticks\":\"\",\"title\":{\"standoff\":15},\"zerolinecolor\":\"white\",\"automargin\":true,\"zerolinewidth\":2},\"scene\":{\"xaxis\":{\"backgroundcolor\":\"#E5ECF6\",\"gridcolor\":\"white\",\"linecolor\":\"white\",\"showbackground\":true,\"ticks\":\"\",\"zerolinecolor\":\"white\",\"gridwidth\":2},\"yaxis\":{\"backgroundcolor\":\"#E5ECF6\",\"gridcolor\":\"white\",\"linecolor\":\"white\",\"showbackground\":true,\"ticks\":\"\",\"zerolinecolor\":\"white\",\"gridwidth\":2},\"zaxis\":{\"backgroundcolor\":\"#E5ECF6\",\"gridcolor\":\"white\",\"linecolor\":\"white\",\"showbackground\":true,\"ticks\":\"\",\"zerolinecolor\":\"white\",\"gridwidth\":2}},\"shapedefaults\":{\"line\":{\"color\":\"#2a3f5f\"}},\"annotationdefaults\":{\"arrowcolor\":\"#2a3f5f\",\"arrowhead\":0,\"arrowwidth\":1},\"geo\":{\"bgcolor\":\"white\",\"landcolor\":\"#E5ECF6\",\"subunitcolor\":\"white\",\"showland\":true,\"showlakes\":true,\"lakecolor\":\"white\"},\"title\":{\"x\":0.05},\"mapbox\":{\"style\":\"light\"}}},\"xaxis\":{\"anchor\":\"y\",\"domain\":[0.0,1.0],\"title\":{\"text\":\"fed\"}},\"yaxis\":{\"anchor\":\"x\",\"domain\":[0.0,1.0]},\"legend\":{\"tracegroupgap\":0},\"title\":{\"text\":\"Distribution of Federal Funds Rate (Monthly)\"},\"boxmode\":\"group\"},                        {\"responsive\": true}                    ).then(function(){\n",
              "                            \n",
              "var gd = document.getElementById('fa7c4c9a-70a5-4473-898c-090a41f8cd3a');\n",
              "var x = new MutationObserver(function (mutations, observer) {{\n",
              "        var display = window.getComputedStyle(gd).display;\n",
              "        if (!display || display === 'none') {{\n",
              "            console.log([gd, 'removed!']);\n",
              "            Plotly.purge(gd);\n",
              "            observer.disconnect();\n",
              "        }}\n",
              "}});\n",
              "\n",
              "// Listen for the removal of the full notebook cells\n",
              "var notebookContainer = gd.closest('#notebook-container');\n",
              "if (notebookContainer) {{\n",
              "    x.observe(notebookContainer, {childList: true});\n",
              "}}\n",
              "\n",
              "// Listen for the clearing of the current output cell\n",
              "var outputEl = gd.closest('.output');\n",
              "if (outputEl) {{\n",
              "    x.observe(outputEl, {childList: true});\n",
              "}}\n",
              "\n",
              "                        })                };                            </script>        </div>\n",
              "</body>\n",
              "</html>"
            ]
          },
          "metadata": {}
        }
      ]
    },
    {
      "cell_type": "code",
      "source": [
        "# https://plotly.com/python-api-reference/generated/plotly.express.violin.html\n",
        "import plotly.express as px\n",
        "\n",
        "#px.violin(df, y=\"fed\", points=\"all\", box=True, title=\"Distribution of Federal Funds Rate (Monthly)\", hover_data=[\"timestamp\"])\n",
        "px.violin(df, x=\"fed\", orientation=\"h\", points=\"all\", box=True, title=\"Distribution of Federal Funds Rate (Monthly)\", hover_data=[\"timestamp\"])"
      ],
      "metadata": {
        "colab": {
          "base_uri": "https://localhost:8080/",
          "height": 542
        },
        "id": "NdNSM9bvG_e_",
        "outputId": "7d195112-bf61-4f14-d9c7-ffebbf4c0f9f"
      },
      "execution_count": 29,
      "outputs": [
        {
          "output_type": "display_data",
          "data": {
            "text/html": [
              "<html>\n",
              "<head><meta charset=\"utf-8\" /></head>\n",
              "<body>\n",
              "    <div>            <script src=\"https://cdnjs.cloudflare.com/ajax/libs/mathjax/2.7.5/MathJax.js?config=TeX-AMS-MML_SVG\"></script><script type=\"text/javascript\">if (window.MathJax && window.MathJax.Hub && window.MathJax.Hub.Config) {window.MathJax.Hub.Config({SVG: {font: \"STIX-Web\"}});}</script>                <script type=\"text/javascript\">window.PlotlyConfig = {MathJaxConfig: 'local'};</script>\n",
              "        <script charset=\"utf-8\" src=\"https://cdn.plot.ly/plotly-2.24.1.min.js\"></script>                <div id=\"dfc0ff56-0418-40e8-bcc2-5dd32a6c6284\" class=\"plotly-graph-div\" style=\"height:525px; width:100%;\"></div>            <script type=\"text/javascript\">                                    window.PLOTLYENV=window.PLOTLYENV || {};                                    if (document.getElementById(\"dfc0ff56-0418-40e8-bcc2-5dd32a6c6284\")) {                    Plotly.newPlot(                        \"dfc0ff56-0418-40e8-bcc2-5dd32a6c6284\",                        [{\"alignmentgroup\":\"True\",\"box\":{\"visible\":true},\"customdata\":[[\"2024-05-01\"],[\"2024-04-01\"],[\"2024-03-01\"],[\"2024-02-01\"],[\"2024-01-01\"],[\"2023-12-01\"],[\"2023-11-01\"],[\"2023-10-01\"],[\"2023-09-01\"],[\"2023-08-01\"],[\"2023-07-01\"],[\"2023-06-01\"],[\"2023-05-01\"],[\"2023-04-01\"],[\"2023-03-01\"],[\"2023-02-01\"],[\"2023-01-01\"],[\"2022-12-01\"],[\"2022-11-01\"],[\"2022-10-01\"],[\"2022-09-01\"],[\"2022-08-01\"],[\"2022-07-01\"],[\"2022-06-01\"],[\"2022-05-01\"],[\"2022-04-01\"],[\"2022-03-01\"],[\"2022-02-01\"],[\"2022-01-01\"],[\"2021-12-01\"],[\"2021-11-01\"],[\"2021-10-01\"],[\"2021-09-01\"],[\"2021-08-01\"],[\"2021-07-01\"],[\"2021-06-01\"],[\"2021-05-01\"],[\"2021-04-01\"],[\"2021-03-01\"],[\"2021-02-01\"],[\"2021-01-01\"],[\"2020-12-01\"],[\"2020-11-01\"],[\"2020-10-01\"],[\"2020-09-01\"],[\"2020-08-01\"],[\"2020-07-01\"],[\"2020-06-01\"],[\"2020-05-01\"],[\"2020-04-01\"],[\"2020-03-01\"],[\"2020-02-01\"],[\"2020-01-01\"],[\"2019-12-01\"],[\"2019-11-01\"],[\"2019-10-01\"],[\"2019-09-01\"],[\"2019-08-01\"],[\"2019-07-01\"],[\"2019-06-01\"],[\"2019-05-01\"],[\"2019-04-01\"],[\"2019-03-01\"],[\"2019-02-01\"],[\"2019-01-01\"],[\"2018-12-01\"],[\"2018-11-01\"],[\"2018-10-01\"],[\"2018-09-01\"],[\"2018-08-01\"],[\"2018-07-01\"],[\"2018-06-01\"],[\"2018-05-01\"],[\"2018-04-01\"],[\"2018-03-01\"],[\"2018-02-01\"],[\"2018-01-01\"],[\"2017-12-01\"],[\"2017-11-01\"],[\"2017-10-01\"],[\"2017-09-01\"],[\"2017-08-01\"],[\"2017-07-01\"],[\"2017-06-01\"],[\"2017-05-01\"],[\"2017-04-01\"],[\"2017-03-01\"],[\"2017-02-01\"],[\"2017-01-01\"],[\"2016-12-01\"],[\"2016-11-01\"],[\"2016-10-01\"],[\"2016-09-01\"],[\"2016-08-01\"],[\"2016-07-01\"],[\"2016-06-01\"],[\"2016-05-01\"],[\"2016-04-01\"],[\"2016-03-01\"],[\"2016-02-01\"],[\"2016-01-01\"],[\"2015-12-01\"],[\"2015-11-01\"],[\"2015-10-01\"],[\"2015-09-01\"],[\"2015-08-01\"],[\"2015-07-01\"],[\"2015-06-01\"],[\"2015-05-01\"],[\"2015-04-01\"],[\"2015-03-01\"],[\"2015-02-01\"],[\"2015-01-01\"],[\"2014-12-01\"],[\"2014-11-01\"],[\"2014-10-01\"],[\"2014-09-01\"],[\"2014-08-01\"],[\"2014-07-01\"],[\"2014-06-01\"],[\"2014-05-01\"],[\"2014-04-01\"],[\"2014-03-01\"],[\"2014-02-01\"],[\"2014-01-01\"],[\"2013-12-01\"],[\"2013-11-01\"],[\"2013-10-01\"],[\"2013-09-01\"],[\"2013-08-01\"],[\"2013-07-01\"],[\"2013-06-01\"],[\"2013-05-01\"],[\"2013-04-01\"],[\"2013-03-01\"],[\"2013-02-01\"],[\"2013-01-01\"],[\"2012-12-01\"],[\"2012-11-01\"],[\"2012-10-01\"],[\"2012-09-01\"],[\"2012-08-01\"],[\"2012-07-01\"],[\"2012-06-01\"],[\"2012-05-01\"],[\"2012-04-01\"],[\"2012-03-01\"],[\"2012-02-01\"],[\"2012-01-01\"],[\"2011-12-01\"],[\"2011-11-01\"],[\"2011-10-01\"],[\"2011-09-01\"],[\"2011-08-01\"],[\"2011-07-01\"],[\"2011-06-01\"],[\"2011-05-01\"],[\"2011-04-01\"],[\"2011-03-01\"],[\"2011-02-01\"],[\"2011-01-01\"],[\"2010-12-01\"],[\"2010-11-01\"],[\"2010-10-01\"],[\"2010-09-01\"],[\"2010-08-01\"],[\"2010-07-01\"],[\"2010-06-01\"],[\"2010-05-01\"],[\"2010-04-01\"],[\"2010-03-01\"],[\"2010-02-01\"],[\"2010-01-01\"],[\"2009-12-01\"],[\"2009-11-01\"],[\"2009-10-01\"],[\"2009-09-01\"],[\"2009-08-01\"],[\"2009-07-01\"],[\"2009-06-01\"],[\"2009-05-01\"],[\"2009-04-01\"],[\"2009-03-01\"],[\"2009-02-01\"],[\"2009-01-01\"],[\"2008-12-01\"],[\"2008-11-01\"],[\"2008-10-01\"],[\"2008-09-01\"],[\"2008-08-01\"],[\"2008-07-01\"],[\"2008-06-01\"],[\"2008-05-01\"],[\"2008-04-01\"],[\"2008-03-01\"],[\"2008-02-01\"],[\"2008-01-01\"],[\"2007-12-01\"],[\"2007-11-01\"],[\"2007-10-01\"],[\"2007-09-01\"],[\"2007-08-01\"],[\"2007-07-01\"],[\"2007-06-01\"],[\"2007-05-01\"],[\"2007-04-01\"],[\"2007-03-01\"],[\"2007-02-01\"],[\"2007-01-01\"],[\"2006-12-01\"],[\"2006-11-01\"],[\"2006-10-01\"],[\"2006-09-01\"],[\"2006-08-01\"],[\"2006-07-01\"],[\"2006-06-01\"],[\"2006-05-01\"],[\"2006-04-01\"],[\"2006-03-01\"],[\"2006-02-01\"],[\"2006-01-01\"],[\"2005-12-01\"],[\"2005-11-01\"],[\"2005-10-01\"],[\"2005-09-01\"],[\"2005-08-01\"],[\"2005-07-01\"],[\"2005-06-01\"],[\"2005-05-01\"],[\"2005-04-01\"],[\"2005-03-01\"],[\"2005-02-01\"],[\"2005-01-01\"],[\"2004-12-01\"]],\"hovertemplate\":\"fed=%{x}\\u003cbr\\u003etimestamp=%{customdata[0]}\\u003cextra\\u003e\\u003c\\u002fextra\\u003e\",\"legendgroup\":\"\",\"marker\":{\"color\":\"#636efa\"},\"name\":\"\",\"offsetgroup\":\"\",\"orientation\":\"h\",\"points\":\"all\",\"scalegroup\":\"True\",\"showlegend\":false,\"x\":[5.33,5.33,5.33,5.33,5.33,5.33,5.33,5.33,5.33,5.33,5.12,5.08,5.06,4.83,4.65,4.57,4.33,4.1,3.78,3.08,2.56,2.33,1.68,1.21,0.77,0.33,0.2,0.08,0.08,0.08,0.08,0.08,0.08,0.09,0.1,0.08,0.06,0.07,0.07,0.08,0.09,0.09,0.09,0.09,0.09,0.1,0.09,0.08,0.05,0.05,0.65,1.58,1.55,1.55,1.55,1.83,2.04,2.13,2.4,2.38,2.39,2.42,2.41,2.4,2.4,2.27,2.2,2.19,1.95,1.91,1.91,1.82,1.7,1.69,1.51,1.42,1.41,1.3,1.16,1.15,1.15,1.16,1.15,1.04,0.91,0.9,0.79,0.66,0.65,0.54,0.41,0.4,0.4,0.4,0.39,0.38,0.37,0.37,0.36,0.38,0.34,0.24,0.12,0.12,0.14,0.14,0.13,0.13,0.12,0.12,0.11,0.11,0.11,0.12,0.09,0.09,0.09,0.09,0.09,0.1,0.09,0.09,0.08,0.07,0.07,0.09,0.08,0.09,0.08,0.08,0.09,0.09,0.11,0.15,0.14,0.15,0.14,0.16,0.16,0.16,0.14,0.13,0.16,0.16,0.16,0.14,0.13,0.1,0.08,0.07,0.08,0.07,0.08,0.1,0.07,0.09,0.09,0.1,0.14,0.16,0.17,0.18,0.19,0.19,0.19,0.19,0.18,0.18,0.2,0.2,0.16,0.13,0.11,0.12,0.12,0.12,0.15,0.16,0.16,0.21,0.18,0.15,0.18,0.22,0.15,0.16,0.39,0.97,1.81,2.0,2.01,2.0,1.98,2.28,2.61,2.98,3.94,4.24,4.49,4.76,4.94,5.02,5.26,5.25,5.25,5.25,5.26,5.26,5.25,5.24,5.25,5.25,5.25,5.25,5.24,4.99,4.94,4.79,4.59,4.49,4.29,4.16,4.0,3.78,3.62,3.5,3.26,3.04,3.0,2.79,2.63,2.5,2.28,2.16],\"x0\":\" \",\"xaxis\":\"x\",\"y0\":\" \",\"yaxis\":\"y\",\"type\":\"violin\"}],                        {\"template\":{\"data\":{\"histogram2dcontour\":[{\"type\":\"histogram2dcontour\",\"colorbar\":{\"outlinewidth\":0,\"ticks\":\"\"},\"colorscale\":[[0.0,\"#0d0887\"],[0.1111111111111111,\"#46039f\"],[0.2222222222222222,\"#7201a8\"],[0.3333333333333333,\"#9c179e\"],[0.4444444444444444,\"#bd3786\"],[0.5555555555555556,\"#d8576b\"],[0.6666666666666666,\"#ed7953\"],[0.7777777777777778,\"#fb9f3a\"],[0.8888888888888888,\"#fdca26\"],[1.0,\"#f0f921\"]]}],\"choropleth\":[{\"type\":\"choropleth\",\"colorbar\":{\"outlinewidth\":0,\"ticks\":\"\"}}],\"histogram2d\":[{\"type\":\"histogram2d\",\"colorbar\":{\"outlinewidth\":0,\"ticks\":\"\"},\"colorscale\":[[0.0,\"#0d0887\"],[0.1111111111111111,\"#46039f\"],[0.2222222222222222,\"#7201a8\"],[0.3333333333333333,\"#9c179e\"],[0.4444444444444444,\"#bd3786\"],[0.5555555555555556,\"#d8576b\"],[0.6666666666666666,\"#ed7953\"],[0.7777777777777778,\"#fb9f3a\"],[0.8888888888888888,\"#fdca26\"],[1.0,\"#f0f921\"]]}],\"heatmap\":[{\"type\":\"heatmap\",\"colorbar\":{\"outlinewidth\":0,\"ticks\":\"\"},\"colorscale\":[[0.0,\"#0d0887\"],[0.1111111111111111,\"#46039f\"],[0.2222222222222222,\"#7201a8\"],[0.3333333333333333,\"#9c179e\"],[0.4444444444444444,\"#bd3786\"],[0.5555555555555556,\"#d8576b\"],[0.6666666666666666,\"#ed7953\"],[0.7777777777777778,\"#fb9f3a\"],[0.8888888888888888,\"#fdca26\"],[1.0,\"#f0f921\"]]}],\"heatmapgl\":[{\"type\":\"heatmapgl\",\"colorbar\":{\"outlinewidth\":0,\"ticks\":\"\"},\"colorscale\":[[0.0,\"#0d0887\"],[0.1111111111111111,\"#46039f\"],[0.2222222222222222,\"#7201a8\"],[0.3333333333333333,\"#9c179e\"],[0.4444444444444444,\"#bd3786\"],[0.5555555555555556,\"#d8576b\"],[0.6666666666666666,\"#ed7953\"],[0.7777777777777778,\"#fb9f3a\"],[0.8888888888888888,\"#fdca26\"],[1.0,\"#f0f921\"]]}],\"contourcarpet\":[{\"type\":\"contourcarpet\",\"colorbar\":{\"outlinewidth\":0,\"ticks\":\"\"}}],\"contour\":[{\"type\":\"contour\",\"colorbar\":{\"outlinewidth\":0,\"ticks\":\"\"},\"colorscale\":[[0.0,\"#0d0887\"],[0.1111111111111111,\"#46039f\"],[0.2222222222222222,\"#7201a8\"],[0.3333333333333333,\"#9c179e\"],[0.4444444444444444,\"#bd3786\"],[0.5555555555555556,\"#d8576b\"],[0.6666666666666666,\"#ed7953\"],[0.7777777777777778,\"#fb9f3a\"],[0.8888888888888888,\"#fdca26\"],[1.0,\"#f0f921\"]]}],\"surface\":[{\"type\":\"surface\",\"colorbar\":{\"outlinewidth\":0,\"ticks\":\"\"},\"colorscale\":[[0.0,\"#0d0887\"],[0.1111111111111111,\"#46039f\"],[0.2222222222222222,\"#7201a8\"],[0.3333333333333333,\"#9c179e\"],[0.4444444444444444,\"#bd3786\"],[0.5555555555555556,\"#d8576b\"],[0.6666666666666666,\"#ed7953\"],[0.7777777777777778,\"#fb9f3a\"],[0.8888888888888888,\"#fdca26\"],[1.0,\"#f0f921\"]]}],\"mesh3d\":[{\"type\":\"mesh3d\",\"colorbar\":{\"outlinewidth\":0,\"ticks\":\"\"}}],\"scatter\":[{\"fillpattern\":{\"fillmode\":\"overlay\",\"size\":10,\"solidity\":0.2},\"type\":\"scatter\"}],\"parcoords\":[{\"type\":\"parcoords\",\"line\":{\"colorbar\":{\"outlinewidth\":0,\"ticks\":\"\"}}}],\"scatterpolargl\":[{\"type\":\"scatterpolargl\",\"marker\":{\"colorbar\":{\"outlinewidth\":0,\"ticks\":\"\"}}}],\"bar\":[{\"error_x\":{\"color\":\"#2a3f5f\"},\"error_y\":{\"color\":\"#2a3f5f\"},\"marker\":{\"line\":{\"color\":\"#E5ECF6\",\"width\":0.5},\"pattern\":{\"fillmode\":\"overlay\",\"size\":10,\"solidity\":0.2}},\"type\":\"bar\"}],\"scattergeo\":[{\"type\":\"scattergeo\",\"marker\":{\"colorbar\":{\"outlinewidth\":0,\"ticks\":\"\"}}}],\"scatterpolar\":[{\"type\":\"scatterpolar\",\"marker\":{\"colorbar\":{\"outlinewidth\":0,\"ticks\":\"\"}}}],\"histogram\":[{\"marker\":{\"pattern\":{\"fillmode\":\"overlay\",\"size\":10,\"solidity\":0.2}},\"type\":\"histogram\"}],\"scattergl\":[{\"type\":\"scattergl\",\"marker\":{\"colorbar\":{\"outlinewidth\":0,\"ticks\":\"\"}}}],\"scatter3d\":[{\"type\":\"scatter3d\",\"line\":{\"colorbar\":{\"outlinewidth\":0,\"ticks\":\"\"}},\"marker\":{\"colorbar\":{\"outlinewidth\":0,\"ticks\":\"\"}}}],\"scattermapbox\":[{\"type\":\"scattermapbox\",\"marker\":{\"colorbar\":{\"outlinewidth\":0,\"ticks\":\"\"}}}],\"scatterternary\":[{\"type\":\"scatterternary\",\"marker\":{\"colorbar\":{\"outlinewidth\":0,\"ticks\":\"\"}}}],\"scattercarpet\":[{\"type\":\"scattercarpet\",\"marker\":{\"colorbar\":{\"outlinewidth\":0,\"ticks\":\"\"}}}],\"carpet\":[{\"aaxis\":{\"endlinecolor\":\"#2a3f5f\",\"gridcolor\":\"white\",\"linecolor\":\"white\",\"minorgridcolor\":\"white\",\"startlinecolor\":\"#2a3f5f\"},\"baxis\":{\"endlinecolor\":\"#2a3f5f\",\"gridcolor\":\"white\",\"linecolor\":\"white\",\"minorgridcolor\":\"white\",\"startlinecolor\":\"#2a3f5f\"},\"type\":\"carpet\"}],\"table\":[{\"cells\":{\"fill\":{\"color\":\"#EBF0F8\"},\"line\":{\"color\":\"white\"}},\"header\":{\"fill\":{\"color\":\"#C8D4E3\"},\"line\":{\"color\":\"white\"}},\"type\":\"table\"}],\"barpolar\":[{\"marker\":{\"line\":{\"color\":\"#E5ECF6\",\"width\":0.5},\"pattern\":{\"fillmode\":\"overlay\",\"size\":10,\"solidity\":0.2}},\"type\":\"barpolar\"}],\"pie\":[{\"automargin\":true,\"type\":\"pie\"}]},\"layout\":{\"autotypenumbers\":\"strict\",\"colorway\":[\"#636efa\",\"#EF553B\",\"#00cc96\",\"#ab63fa\",\"#FFA15A\",\"#19d3f3\",\"#FF6692\",\"#B6E880\",\"#FF97FF\",\"#FECB52\"],\"font\":{\"color\":\"#2a3f5f\"},\"hovermode\":\"closest\",\"hoverlabel\":{\"align\":\"left\"},\"paper_bgcolor\":\"white\",\"plot_bgcolor\":\"#E5ECF6\",\"polar\":{\"bgcolor\":\"#E5ECF6\",\"angularaxis\":{\"gridcolor\":\"white\",\"linecolor\":\"white\",\"ticks\":\"\"},\"radialaxis\":{\"gridcolor\":\"white\",\"linecolor\":\"white\",\"ticks\":\"\"}},\"ternary\":{\"bgcolor\":\"#E5ECF6\",\"aaxis\":{\"gridcolor\":\"white\",\"linecolor\":\"white\",\"ticks\":\"\"},\"baxis\":{\"gridcolor\":\"white\",\"linecolor\":\"white\",\"ticks\":\"\"},\"caxis\":{\"gridcolor\":\"white\",\"linecolor\":\"white\",\"ticks\":\"\"}},\"coloraxis\":{\"colorbar\":{\"outlinewidth\":0,\"ticks\":\"\"}},\"colorscale\":{\"sequential\":[[0.0,\"#0d0887\"],[0.1111111111111111,\"#46039f\"],[0.2222222222222222,\"#7201a8\"],[0.3333333333333333,\"#9c179e\"],[0.4444444444444444,\"#bd3786\"],[0.5555555555555556,\"#d8576b\"],[0.6666666666666666,\"#ed7953\"],[0.7777777777777778,\"#fb9f3a\"],[0.8888888888888888,\"#fdca26\"],[1.0,\"#f0f921\"]],\"sequentialminus\":[[0.0,\"#0d0887\"],[0.1111111111111111,\"#46039f\"],[0.2222222222222222,\"#7201a8\"],[0.3333333333333333,\"#9c179e\"],[0.4444444444444444,\"#bd3786\"],[0.5555555555555556,\"#d8576b\"],[0.6666666666666666,\"#ed7953\"],[0.7777777777777778,\"#fb9f3a\"],[0.8888888888888888,\"#fdca26\"],[1.0,\"#f0f921\"]],\"diverging\":[[0,\"#8e0152\"],[0.1,\"#c51b7d\"],[0.2,\"#de77ae\"],[0.3,\"#f1b6da\"],[0.4,\"#fde0ef\"],[0.5,\"#f7f7f7\"],[0.6,\"#e6f5d0\"],[0.7,\"#b8e186\"],[0.8,\"#7fbc41\"],[0.9,\"#4d9221\"],[1,\"#276419\"]]},\"xaxis\":{\"gridcolor\":\"white\",\"linecolor\":\"white\",\"ticks\":\"\",\"title\":{\"standoff\":15},\"zerolinecolor\":\"white\",\"automargin\":true,\"zerolinewidth\":2},\"yaxis\":{\"gridcolor\":\"white\",\"linecolor\":\"white\",\"ticks\":\"\",\"title\":{\"standoff\":15},\"zerolinecolor\":\"white\",\"automargin\":true,\"zerolinewidth\":2},\"scene\":{\"xaxis\":{\"backgroundcolor\":\"#E5ECF6\",\"gridcolor\":\"white\",\"linecolor\":\"white\",\"showbackground\":true,\"ticks\":\"\",\"zerolinecolor\":\"white\",\"gridwidth\":2},\"yaxis\":{\"backgroundcolor\":\"#E5ECF6\",\"gridcolor\":\"white\",\"linecolor\":\"white\",\"showbackground\":true,\"ticks\":\"\",\"zerolinecolor\":\"white\",\"gridwidth\":2},\"zaxis\":{\"backgroundcolor\":\"#E5ECF6\",\"gridcolor\":\"white\",\"linecolor\":\"white\",\"showbackground\":true,\"ticks\":\"\",\"zerolinecolor\":\"white\",\"gridwidth\":2}},\"shapedefaults\":{\"line\":{\"color\":\"#2a3f5f\"}},\"annotationdefaults\":{\"arrowcolor\":\"#2a3f5f\",\"arrowhead\":0,\"arrowwidth\":1},\"geo\":{\"bgcolor\":\"white\",\"landcolor\":\"#E5ECF6\",\"subunitcolor\":\"white\",\"showland\":true,\"showlakes\":true,\"lakecolor\":\"white\"},\"title\":{\"x\":0.05},\"mapbox\":{\"style\":\"light\"}}},\"xaxis\":{\"anchor\":\"y\",\"domain\":[0.0,1.0],\"title\":{\"text\":\"fed\"}},\"yaxis\":{\"anchor\":\"x\",\"domain\":[0.0,1.0]},\"legend\":{\"tracegroupgap\":0},\"title\":{\"text\":\"Distribution of Federal Funds Rate (Monthly)\"},\"violinmode\":\"group\"},                        {\"responsive\": true}                    ).then(function(){\n",
              "                            \n",
              "var gd = document.getElementById('dfc0ff56-0418-40e8-bcc2-5dd32a6c6284');\n",
              "var x = new MutationObserver(function (mutations, observer) {{\n",
              "        var display = window.getComputedStyle(gd).display;\n",
              "        if (!display || display === 'none') {{\n",
              "            console.log([gd, 'removed!']);\n",
              "            Plotly.purge(gd);\n",
              "            observer.disconnect();\n",
              "        }}\n",
              "}});\n",
              "\n",
              "// Listen for the removal of the full notebook cells\n",
              "var notebookContainer = gd.closest('#notebook-container');\n",
              "if (notebookContainer) {{\n",
              "    x.observe(notebookContainer, {childList: true});\n",
              "}}\n",
              "\n",
              "// Listen for the clearing of the current output cell\n",
              "var outputEl = gd.closest('.output');\n",
              "if (outputEl) {{\n",
              "    x.observe(outputEl, {childList: true});\n",
              "}}\n",
              "\n",
              "                        })                };                            </script>        </div>\n",
              "</body>\n",
              "</html>"
            ]
          },
          "metadata": {}
        }
      ]
    },
    {
      "cell_type": "code",
      "source": [
        "# https://plotly.com/python-api-reference/generated/plotly.express.histogram.html\n",
        "px.histogram(df, x=\"fed\", #nbins=12,\n",
        "        title=\"Distribution of Federal Funds Rate (Monthly)\", height=350)"
      ],
      "metadata": {
        "colab": {
          "base_uri": "https://localhost:8080/",
          "height": 367
        },
        "id": "fgWZ7qI9HkVT",
        "outputId": "f11acf1b-f3ed-4f14-8296-6d34fa8c0079"
      },
      "execution_count": 30,
      "outputs": [
        {
          "output_type": "display_data",
          "data": {
            "text/html": [
              "<html>\n",
              "<head><meta charset=\"utf-8\" /></head>\n",
              "<body>\n",
              "    <div>            <script src=\"https://cdnjs.cloudflare.com/ajax/libs/mathjax/2.7.5/MathJax.js?config=TeX-AMS-MML_SVG\"></script><script type=\"text/javascript\">if (window.MathJax && window.MathJax.Hub && window.MathJax.Hub.Config) {window.MathJax.Hub.Config({SVG: {font: \"STIX-Web\"}});}</script>                <script type=\"text/javascript\">window.PlotlyConfig = {MathJaxConfig: 'local'};</script>\n",
              "        <script charset=\"utf-8\" src=\"https://cdn.plot.ly/plotly-2.24.1.min.js\"></script>                <div id=\"a1d1a4e1-21fe-449b-8970-c660e579103d\" class=\"plotly-graph-div\" style=\"height:350px; width:100%;\"></div>            <script type=\"text/javascript\">                                    window.PLOTLYENV=window.PLOTLYENV || {};                                    if (document.getElementById(\"a1d1a4e1-21fe-449b-8970-c660e579103d\")) {                    Plotly.newPlot(                        \"a1d1a4e1-21fe-449b-8970-c660e579103d\",                        [{\"alignmentgroup\":\"True\",\"bingroup\":\"x\",\"hovertemplate\":\"fed=%{x}\\u003cbr\\u003ecount=%{y}\\u003cextra\\u003e\\u003c\\u002fextra\\u003e\",\"legendgroup\":\"\",\"marker\":{\"color\":\"#636efa\",\"pattern\":{\"shape\":\"\"}},\"name\":\"\",\"offsetgroup\":\"\",\"orientation\":\"v\",\"showlegend\":false,\"x\":[5.33,5.33,5.33,5.33,5.33,5.33,5.33,5.33,5.33,5.33,5.12,5.08,5.06,4.83,4.65,4.57,4.33,4.1,3.78,3.08,2.56,2.33,1.68,1.21,0.77,0.33,0.2,0.08,0.08,0.08,0.08,0.08,0.08,0.09,0.1,0.08,0.06,0.07,0.07,0.08,0.09,0.09,0.09,0.09,0.09,0.1,0.09,0.08,0.05,0.05,0.65,1.58,1.55,1.55,1.55,1.83,2.04,2.13,2.4,2.38,2.39,2.42,2.41,2.4,2.4,2.27,2.2,2.19,1.95,1.91,1.91,1.82,1.7,1.69,1.51,1.42,1.41,1.3,1.16,1.15,1.15,1.16,1.15,1.04,0.91,0.9,0.79,0.66,0.65,0.54,0.41,0.4,0.4,0.4,0.39,0.38,0.37,0.37,0.36,0.38,0.34,0.24,0.12,0.12,0.14,0.14,0.13,0.13,0.12,0.12,0.11,0.11,0.11,0.12,0.09,0.09,0.09,0.09,0.09,0.1,0.09,0.09,0.08,0.07,0.07,0.09,0.08,0.09,0.08,0.08,0.09,0.09,0.11,0.15,0.14,0.15,0.14,0.16,0.16,0.16,0.14,0.13,0.16,0.16,0.16,0.14,0.13,0.1,0.08,0.07,0.08,0.07,0.08,0.1,0.07,0.09,0.09,0.1,0.14,0.16,0.17,0.18,0.19,0.19,0.19,0.19,0.18,0.18,0.2,0.2,0.16,0.13,0.11,0.12,0.12,0.12,0.15,0.16,0.16,0.21,0.18,0.15,0.18,0.22,0.15,0.16,0.39,0.97,1.81,2.0,2.01,2.0,1.98,2.28,2.61,2.98,3.94,4.24,4.49,4.76,4.94,5.02,5.26,5.25,5.25,5.25,5.26,5.26,5.25,5.24,5.25,5.25,5.25,5.25,5.24,4.99,4.94,4.79,4.59,4.49,4.29,4.16,4.0,3.78,3.62,3.5,3.26,3.04,3.0,2.79,2.63,2.5,2.28,2.16],\"xaxis\":\"x\",\"yaxis\":\"y\",\"type\":\"histogram\"}],                        {\"template\":{\"data\":{\"histogram2dcontour\":[{\"type\":\"histogram2dcontour\",\"colorbar\":{\"outlinewidth\":0,\"ticks\":\"\"},\"colorscale\":[[0.0,\"#0d0887\"],[0.1111111111111111,\"#46039f\"],[0.2222222222222222,\"#7201a8\"],[0.3333333333333333,\"#9c179e\"],[0.4444444444444444,\"#bd3786\"],[0.5555555555555556,\"#d8576b\"],[0.6666666666666666,\"#ed7953\"],[0.7777777777777778,\"#fb9f3a\"],[0.8888888888888888,\"#fdca26\"],[1.0,\"#f0f921\"]]}],\"choropleth\":[{\"type\":\"choropleth\",\"colorbar\":{\"outlinewidth\":0,\"ticks\":\"\"}}],\"histogram2d\":[{\"type\":\"histogram2d\",\"colorbar\":{\"outlinewidth\":0,\"ticks\":\"\"},\"colorscale\":[[0.0,\"#0d0887\"],[0.1111111111111111,\"#46039f\"],[0.2222222222222222,\"#7201a8\"],[0.3333333333333333,\"#9c179e\"],[0.4444444444444444,\"#bd3786\"],[0.5555555555555556,\"#d8576b\"],[0.6666666666666666,\"#ed7953\"],[0.7777777777777778,\"#fb9f3a\"],[0.8888888888888888,\"#fdca26\"],[1.0,\"#f0f921\"]]}],\"heatmap\":[{\"type\":\"heatmap\",\"colorbar\":{\"outlinewidth\":0,\"ticks\":\"\"},\"colorscale\":[[0.0,\"#0d0887\"],[0.1111111111111111,\"#46039f\"],[0.2222222222222222,\"#7201a8\"],[0.3333333333333333,\"#9c179e\"],[0.4444444444444444,\"#bd3786\"],[0.5555555555555556,\"#d8576b\"],[0.6666666666666666,\"#ed7953\"],[0.7777777777777778,\"#fb9f3a\"],[0.8888888888888888,\"#fdca26\"],[1.0,\"#f0f921\"]]}],\"heatmapgl\":[{\"type\":\"heatmapgl\",\"colorbar\":{\"outlinewidth\":0,\"ticks\":\"\"},\"colorscale\":[[0.0,\"#0d0887\"],[0.1111111111111111,\"#46039f\"],[0.2222222222222222,\"#7201a8\"],[0.3333333333333333,\"#9c179e\"],[0.4444444444444444,\"#bd3786\"],[0.5555555555555556,\"#d8576b\"],[0.6666666666666666,\"#ed7953\"],[0.7777777777777778,\"#fb9f3a\"],[0.8888888888888888,\"#fdca26\"],[1.0,\"#f0f921\"]]}],\"contourcarpet\":[{\"type\":\"contourcarpet\",\"colorbar\":{\"outlinewidth\":0,\"ticks\":\"\"}}],\"contour\":[{\"type\":\"contour\",\"colorbar\":{\"outlinewidth\":0,\"ticks\":\"\"},\"colorscale\":[[0.0,\"#0d0887\"],[0.1111111111111111,\"#46039f\"],[0.2222222222222222,\"#7201a8\"],[0.3333333333333333,\"#9c179e\"],[0.4444444444444444,\"#bd3786\"],[0.5555555555555556,\"#d8576b\"],[0.6666666666666666,\"#ed7953\"],[0.7777777777777778,\"#fb9f3a\"],[0.8888888888888888,\"#fdca26\"],[1.0,\"#f0f921\"]]}],\"surface\":[{\"type\":\"surface\",\"colorbar\":{\"outlinewidth\":0,\"ticks\":\"\"},\"colorscale\":[[0.0,\"#0d0887\"],[0.1111111111111111,\"#46039f\"],[0.2222222222222222,\"#7201a8\"],[0.3333333333333333,\"#9c179e\"],[0.4444444444444444,\"#bd3786\"],[0.5555555555555556,\"#d8576b\"],[0.6666666666666666,\"#ed7953\"],[0.7777777777777778,\"#fb9f3a\"],[0.8888888888888888,\"#fdca26\"],[1.0,\"#f0f921\"]]}],\"mesh3d\":[{\"type\":\"mesh3d\",\"colorbar\":{\"outlinewidth\":0,\"ticks\":\"\"}}],\"scatter\":[{\"fillpattern\":{\"fillmode\":\"overlay\",\"size\":10,\"solidity\":0.2},\"type\":\"scatter\"}],\"parcoords\":[{\"type\":\"parcoords\",\"line\":{\"colorbar\":{\"outlinewidth\":0,\"ticks\":\"\"}}}],\"scatterpolargl\":[{\"type\":\"scatterpolargl\",\"marker\":{\"colorbar\":{\"outlinewidth\":0,\"ticks\":\"\"}}}],\"bar\":[{\"error_x\":{\"color\":\"#2a3f5f\"},\"error_y\":{\"color\":\"#2a3f5f\"},\"marker\":{\"line\":{\"color\":\"#E5ECF6\",\"width\":0.5},\"pattern\":{\"fillmode\":\"overlay\",\"size\":10,\"solidity\":0.2}},\"type\":\"bar\"}],\"scattergeo\":[{\"type\":\"scattergeo\",\"marker\":{\"colorbar\":{\"outlinewidth\":0,\"ticks\":\"\"}}}],\"scatterpolar\":[{\"type\":\"scatterpolar\",\"marker\":{\"colorbar\":{\"outlinewidth\":0,\"ticks\":\"\"}}}],\"histogram\":[{\"marker\":{\"pattern\":{\"fillmode\":\"overlay\",\"size\":10,\"solidity\":0.2}},\"type\":\"histogram\"}],\"scattergl\":[{\"type\":\"scattergl\",\"marker\":{\"colorbar\":{\"outlinewidth\":0,\"ticks\":\"\"}}}],\"scatter3d\":[{\"type\":\"scatter3d\",\"line\":{\"colorbar\":{\"outlinewidth\":0,\"ticks\":\"\"}},\"marker\":{\"colorbar\":{\"outlinewidth\":0,\"ticks\":\"\"}}}],\"scattermapbox\":[{\"type\":\"scattermapbox\",\"marker\":{\"colorbar\":{\"outlinewidth\":0,\"ticks\":\"\"}}}],\"scatterternary\":[{\"type\":\"scatterternary\",\"marker\":{\"colorbar\":{\"outlinewidth\":0,\"ticks\":\"\"}}}],\"scattercarpet\":[{\"type\":\"scattercarpet\",\"marker\":{\"colorbar\":{\"outlinewidth\":0,\"ticks\":\"\"}}}],\"carpet\":[{\"aaxis\":{\"endlinecolor\":\"#2a3f5f\",\"gridcolor\":\"white\",\"linecolor\":\"white\",\"minorgridcolor\":\"white\",\"startlinecolor\":\"#2a3f5f\"},\"baxis\":{\"endlinecolor\":\"#2a3f5f\",\"gridcolor\":\"white\",\"linecolor\":\"white\",\"minorgridcolor\":\"white\",\"startlinecolor\":\"#2a3f5f\"},\"type\":\"carpet\"}],\"table\":[{\"cells\":{\"fill\":{\"color\":\"#EBF0F8\"},\"line\":{\"color\":\"white\"}},\"header\":{\"fill\":{\"color\":\"#C8D4E3\"},\"line\":{\"color\":\"white\"}},\"type\":\"table\"}],\"barpolar\":[{\"marker\":{\"line\":{\"color\":\"#E5ECF6\",\"width\":0.5},\"pattern\":{\"fillmode\":\"overlay\",\"size\":10,\"solidity\":0.2}},\"type\":\"barpolar\"}],\"pie\":[{\"automargin\":true,\"type\":\"pie\"}]},\"layout\":{\"autotypenumbers\":\"strict\",\"colorway\":[\"#636efa\",\"#EF553B\",\"#00cc96\",\"#ab63fa\",\"#FFA15A\",\"#19d3f3\",\"#FF6692\",\"#B6E880\",\"#FF97FF\",\"#FECB52\"],\"font\":{\"color\":\"#2a3f5f\"},\"hovermode\":\"closest\",\"hoverlabel\":{\"align\":\"left\"},\"paper_bgcolor\":\"white\",\"plot_bgcolor\":\"#E5ECF6\",\"polar\":{\"bgcolor\":\"#E5ECF6\",\"angularaxis\":{\"gridcolor\":\"white\",\"linecolor\":\"white\",\"ticks\":\"\"},\"radialaxis\":{\"gridcolor\":\"white\",\"linecolor\":\"white\",\"ticks\":\"\"}},\"ternary\":{\"bgcolor\":\"#E5ECF6\",\"aaxis\":{\"gridcolor\":\"white\",\"linecolor\":\"white\",\"ticks\":\"\"},\"baxis\":{\"gridcolor\":\"white\",\"linecolor\":\"white\",\"ticks\":\"\"},\"caxis\":{\"gridcolor\":\"white\",\"linecolor\":\"white\",\"ticks\":\"\"}},\"coloraxis\":{\"colorbar\":{\"outlinewidth\":0,\"ticks\":\"\"}},\"colorscale\":{\"sequential\":[[0.0,\"#0d0887\"],[0.1111111111111111,\"#46039f\"],[0.2222222222222222,\"#7201a8\"],[0.3333333333333333,\"#9c179e\"],[0.4444444444444444,\"#bd3786\"],[0.5555555555555556,\"#d8576b\"],[0.6666666666666666,\"#ed7953\"],[0.7777777777777778,\"#fb9f3a\"],[0.8888888888888888,\"#fdca26\"],[1.0,\"#f0f921\"]],\"sequentialminus\":[[0.0,\"#0d0887\"],[0.1111111111111111,\"#46039f\"],[0.2222222222222222,\"#7201a8\"],[0.3333333333333333,\"#9c179e\"],[0.4444444444444444,\"#bd3786\"],[0.5555555555555556,\"#d8576b\"],[0.6666666666666666,\"#ed7953\"],[0.7777777777777778,\"#fb9f3a\"],[0.8888888888888888,\"#fdca26\"],[1.0,\"#f0f921\"]],\"diverging\":[[0,\"#8e0152\"],[0.1,\"#c51b7d\"],[0.2,\"#de77ae\"],[0.3,\"#f1b6da\"],[0.4,\"#fde0ef\"],[0.5,\"#f7f7f7\"],[0.6,\"#e6f5d0\"],[0.7,\"#b8e186\"],[0.8,\"#7fbc41\"],[0.9,\"#4d9221\"],[1,\"#276419\"]]},\"xaxis\":{\"gridcolor\":\"white\",\"linecolor\":\"white\",\"ticks\":\"\",\"title\":{\"standoff\":15},\"zerolinecolor\":\"white\",\"automargin\":true,\"zerolinewidth\":2},\"yaxis\":{\"gridcolor\":\"white\",\"linecolor\":\"white\",\"ticks\":\"\",\"title\":{\"standoff\":15},\"zerolinecolor\":\"white\",\"automargin\":true,\"zerolinewidth\":2},\"scene\":{\"xaxis\":{\"backgroundcolor\":\"#E5ECF6\",\"gridcolor\":\"white\",\"linecolor\":\"white\",\"showbackground\":true,\"ticks\":\"\",\"zerolinecolor\":\"white\",\"gridwidth\":2},\"yaxis\":{\"backgroundcolor\":\"#E5ECF6\",\"gridcolor\":\"white\",\"linecolor\":\"white\",\"showbackground\":true,\"ticks\":\"\",\"zerolinecolor\":\"white\",\"gridwidth\":2},\"zaxis\":{\"backgroundcolor\":\"#E5ECF6\",\"gridcolor\":\"white\",\"linecolor\":\"white\",\"showbackground\":true,\"ticks\":\"\",\"zerolinecolor\":\"white\",\"gridwidth\":2}},\"shapedefaults\":{\"line\":{\"color\":\"#2a3f5f\"}},\"annotationdefaults\":{\"arrowcolor\":\"#2a3f5f\",\"arrowhead\":0,\"arrowwidth\":1},\"geo\":{\"bgcolor\":\"white\",\"landcolor\":\"#E5ECF6\",\"subunitcolor\":\"white\",\"showland\":true,\"showlakes\":true,\"lakecolor\":\"white\"},\"title\":{\"x\":0.05},\"mapbox\":{\"style\":\"light\"}}},\"xaxis\":{\"anchor\":\"y\",\"domain\":[0.0,1.0],\"title\":{\"text\":\"fed\"}},\"yaxis\":{\"anchor\":\"x\",\"domain\":[0.0,1.0],\"title\":{\"text\":\"count\"}},\"legend\":{\"tracegroupgap\":0},\"title\":{\"text\":\"Distribution of Federal Funds Rate (Monthly)\"},\"barmode\":\"relative\",\"height\":350},                        {\"responsive\": true}                    ).then(function(){\n",
              "                            \n",
              "var gd = document.getElementById('a1d1a4e1-21fe-449b-8970-c660e579103d');\n",
              "var x = new MutationObserver(function (mutations, observer) {{\n",
              "        var display = window.getComputedStyle(gd).display;\n",
              "        if (!display || display === 'none') {{\n",
              "            console.log([gd, 'removed!']);\n",
              "            Plotly.purge(gd);\n",
              "            observer.disconnect();\n",
              "        }}\n",
              "}});\n",
              "\n",
              "// Listen for the removal of the full notebook cells\n",
              "var notebookContainer = gd.closest('#notebook-container');\n",
              "if (notebookContainer) {{\n",
              "    x.observe(notebookContainer, {childList: true});\n",
              "}}\n",
              "\n",
              "// Listen for the clearing of the current output cell\n",
              "var outputEl = gd.closest('.output');\n",
              "if (outputEl) {{\n",
              "    x.observe(outputEl, {childList: true});\n",
              "}}\n",
              "\n",
              "                        })                };                            </script>        </div>\n",
              "</body>\n",
              "</html>"
            ]
          },
          "metadata": {}
        }
      ]
    },
    {
      "cell_type": "markdown",
      "source": [
        "Looks like the recent higher funds rates are potential outliers. It is hard to say for sure if this data is normally distributed, or whether it is too skewed by the outliers."
      ],
      "metadata": {
        "id": "AMAO4wgmMaOr"
      }
    },
    {
      "cell_type": "markdown",
      "source": [
        "# Statistical Tests with `Scipy`"
      ],
      "metadata": {
        "id": "hb2sTkQ7O0yn"
      }
    },
    {
      "cell_type": "markdown",
      "source": [
        "\n",
        "We can use the Scipy package to perform basic statistical tests.\n",
        "\n",
        "https://pypi.org/project/scipy/\n"
      ],
      "metadata": {
        "id": "JHvB8k7_O2Sj"
      }
    },
    {
      "cell_type": "markdown",
      "source": [
        "## Normality Tests"
      ],
      "metadata": {
        "id": "cPRKcdAokgFj"
      }
    },
    {
      "cell_type": "markdown",
      "source": [
        "We can conduct a normality test to see if a given distribution is normally distributed.\n",
        "\n",
        "https://docs.scipy.org/doc/scipy/reference/generated/scipy.stats.normaltest.html\n",
        "\n",
        "> This function tests the null hypothesis that a sample comes from a normal distribution.\n",
        ">\n",
        "> If the p-value is \"small\" - that is, if there is a low probability of sampling data from a normally distributed population that produces such an extreme value of the statistic - this may be taken as evidence against the null hypothesis in favor of the alternative: the weights were not drawn from a normal distribution."
      ],
      "metadata": {
        "id": "F23JqH6NkY3g"
      }
    },
    {
      "cell_type": "code",
      "source": [
        "from scipy.stats import normaltest\n",
        "\n",
        "x = df[\"fed\"]\n",
        "\n",
        "result = normaltest(x)\n",
        "print(result)"
      ],
      "metadata": {
        "colab": {
          "base_uri": "https://localhost:8080/"
        },
        "id": "GWYQyC_LlgZD",
        "outputId": "7089492c-524d-4bfc-ee99-be727658aca3"
      },
      "execution_count": 31,
      "outputs": [
        {
          "output_type": "stream",
          "name": "stdout",
          "text": [
            "NormaltestResult(statistic=34.68795952886342, pvalue=2.9349809995776456e-08)\n"
          ]
        }
      ]
    },
    {
      "cell_type": "markdown",
      "source": [
        "Interpreting the results.\n",
        "\n",
        "https://support.minitab.com/en-us/minitab/21/help-and-how-to/statistics/basic-statistics/how-to/normality-test/interpret-the-results/key-results/\n",
        "\n",
        "> To determine whether the data do not follow a normal distribution, compare the p-value to the significance level. Usually, a significance level (denoted as α or alpha) of 0.05 works well. A significance level of 0.05 indicates a 5% risk of concluding that the data do not follow a normal distribution when the data do follow a normal distribution.\n",
        ">\n",
        "> P-value ≤ α: The data do not follow a normal distribution (Reject H0)\n",
        "> If the p-value is less than or equal to the significance level, the decision is to reject the null hypothesis and conclude that your data do not follow a normal distribution.\n",
        ">\n",
        "> P-value > α: You cannot conclude that the data do not follow a normal distribution (Fail to reject H0). If the p-value is larger than the significance level, the decision is to fail to reject the null hypothesis. You do not have enough evidence to conclude that your data do not follow a normal distribution."
      ],
      "metadata": {
        "id": "qapm_Mybn02j"
      }
    },
    {
      "cell_type": "code",
      "source": [
        "if result.pvalue <= 0.05:\n",
        "    print(\"REJECT (NOT NORMAL)\")\n",
        "else:\n",
        "    print(\"NOT ABLE TO REJECT (COULD BE NORMAL)\")"
      ],
      "metadata": {
        "colab": {
          "base_uri": "https://localhost:8080/"
        },
        "id": "-01Mdq-mlgPX",
        "outputId": "aac4fe80-cf5c-4ee1-c6ec-277f9559e71c"
      },
      "execution_count": 32,
      "outputs": [
        {
          "output_type": "stream",
          "name": "stdout",
          "text": [
            "REJECT (NOT NORMAL)\n"
          ]
        }
      ]
    },
    {
      "cell_type": "markdown",
      "source": [
        "Looks like the federal fuds rate does not have a normal distribution (as this notebook was run on June 28th 2024).\n",
        "\n",
        "How about the market?"
      ],
      "metadata": {
        "id": "r2Nq-ksbxNEY"
      }
    },
    {
      "cell_type": "code",
      "source": [
        "\n",
        "x = df[\"spy\"]\n",
        "\n",
        "result = normaltest(x)\n",
        "print(result)\n",
        "\n",
        "if result.pvalue <= 0.05:\n",
        "    print(\"REJECT (NOT NORMAL)\")\n",
        "else:\n",
        "    print(\"NOT ABLE TO REJECT (COULD BE NORMAL)\")"
      ],
      "metadata": {
        "colab": {
          "base_uri": "https://localhost:8080/"
        },
        "id": "zq28-19x73Ze",
        "outputId": "ad8d43fa-5d8b-4b7f-a43d-59627b824b5a"
      },
      "execution_count": 33,
      "outputs": [
        {
          "output_type": "stream",
          "name": "stdout",
          "text": [
            "NormaltestResult(statistic=27.560328618235523, pvalue=1.0359783530157106e-06)\n",
            "REJECT (NOT NORMAL)\n"
          ]
        }
      ]
    },
    {
      "cell_type": "markdown",
      "source": [
        "## T-Tests"
      ],
      "metadata": {
        "id": "f9JGmHe8kenN"
      }
    },
    {
      "cell_type": "markdown",
      "source": [
        "\n",
        "https://www.investopedia.com/terms/t/t-test.asp\n",
        "\n",
        "> A t-test is an inferential statistic used to determine if there is a significant difference between the means of two groups and how they are related. T-tests are used when the data sets follow a normal distribution and have unknown variances, like the data set recorded from flipping a coin 100 times."
      ],
      "metadata": {
        "id": "0FkY4F7Zk1mg"
      }
    },
    {
      "cell_type": "markdown",
      "source": [
        "### T-Test Considerations\n",
        "\n",
        "https://www.ncbi.nlm.nih.gov/pmc/articles/PMC6676026/#sec-2title\n",
        "\n",
        "In order to conduct a T-Test, the data needs to be normally distributed. So the examples below may not be the most methodologically sound. However they should provide code examples you can adapt for other use cases in the future."
      ],
      "metadata": {
        "id": "LHCRfTzd0g65"
      }
    },
    {
      "cell_type": "markdown",
      "source": [
        "### 2 Sample T-Test"
      ],
      "metadata": {
        "id": "VTfjJ2Gx9Jqk"
      }
    },
    {
      "cell_type": "markdown",
      "source": [
        "A two sample T-test is used to determine whether two independent samples come from the same distribution.\n",
        "\n",
        "\n",
        "Let's split the most recent year's rates from the rest. And see if the most recent years are statistically different."
      ],
      "metadata": {
        "id": "xnYpF2C31Imu"
      }
    },
    {
      "cell_type": "code",
      "source": [
        "\n",
        "#cutoff_date = \"2022-06-01\" # you can chose a different one if you'd like\n",
        "cutoff_date = \"2022-10-01\"\n",
        "\n",
        "rates_recent = df[df[\"timestamp\"] >= cutoff_date][\"fed\"]\n",
        "print(len(rates_recent))\n",
        "print(rates_recent)"
      ],
      "metadata": {
        "colab": {
          "base_uri": "https://localhost:8080/"
        },
        "id": "nw7TfPlAPE0i",
        "outputId": "b810cab1-9e07-4f8c-bdb9-617be7e6dbe7"
      },
      "execution_count": 53,
      "outputs": [
        {
          "output_type": "stream",
          "name": "stdout",
          "text": [
            "20\n",
            "0     5.33\n",
            "1     5.33\n",
            "2     5.33\n",
            "3     5.33\n",
            "4     5.33\n",
            "5     5.33\n",
            "6     5.33\n",
            "7     5.33\n",
            "8     5.33\n",
            "9     5.33\n",
            "10    5.12\n",
            "11    5.08\n",
            "12    5.06\n",
            "13    4.83\n",
            "14    4.65\n",
            "15    4.57\n",
            "16    4.33\n",
            "17    4.10\n",
            "18    3.78\n",
            "19    3.08\n",
            "Name: fed, dtype: float64\n"
          ]
        }
      ]
    },
    {
      "cell_type": "code",
      "source": [
        "rates_historic = df[df[\"timestamp\"] < cutoff_date][\"fed\"]\n",
        "print(len(rates_historic))\n",
        "print(rates_historic)"
      ],
      "metadata": {
        "colab": {
          "base_uri": "https://localhost:8080/"
        },
        "id": "pOUT50wEaDI-",
        "outputId": "54864fe4-4708-495c-919e-60cae4bd52f7"
      },
      "execution_count": 54,
      "outputs": [
        {
          "output_type": "stream",
          "name": "stdout",
          "text": [
            "214\n",
            "20     2.56\n",
            "21     2.33\n",
            "22     1.68\n",
            "23     1.21\n",
            "24     0.77\n",
            "       ... \n",
            "229    2.79\n",
            "230    2.63\n",
            "231    2.50\n",
            "232    2.28\n",
            "233    2.16\n",
            "Name: fed, Length: 214, dtype: float64\n"
          ]
        }
      ]
    },
    {
      "cell_type": "markdown",
      "source": [
        "https://docs.scipy.org/doc/scipy/reference/generated/scipy.stats.ttest_ind.html\n",
        "\n",
        "> Calculate the T-test for the means of two independent samples of scores.\n",
        ">\n",
        "> This is a test for the null hypothesis that 2 independent samples have identical average (expected) values. This test assumes that the populations have identical variances by default.\n",
        ">\n",
        "> The t-test quantifies the difference between the arithmetic means of the two samples. The p-value quantifies the probability of observing as or more extreme values assuming the null hypothesis, that the samples are drawn from populations with the same population means, is true. A p-value larger than a chosen threshold (e.g. 5% or 1%) indicates that our observation is not so unlikely to have occurred by chance. Therefore, we do not reject the null hypothesis of equal population means. If the p-value is smaller than our threshold, then we have evidence against the null hypothesis of equal population means."
      ],
      "metadata": {
        "id": "R3malw701tHd"
      }
    },
    {
      "cell_type": "code",
      "source": [
        "print(rates_recent.var())\n",
        "print(rates_historic.var())"
      ],
      "metadata": {
        "colab": {
          "base_uri": "https://localhost:8080/"
        },
        "id": "UTr2JoM93cvq",
        "outputId": "5428b926-32d4-4b18-dde3-0e7173c60d37"
      },
      "execution_count": 35,
      "outputs": [
        {
          "output_type": "stream",
          "name": "stdout",
          "text": [
            "0.4033105263157895\n",
            "2.7065506493791407\n"
          ]
        }
      ]
    },
    {
      "cell_type": "code",
      "source": [
        "from scipy.stats import ttest_ind\n",
        "\n",
        "result = ttest_ind(rates_recent, rates_historic)\n",
        "print(result)\n",
        "\n",
        "if result.pvalue <= 0.05:\n",
        "    print(\"REJECT (MEANS NOT THE SAME)\")\n",
        "else:\n",
        "    print(\"NOT ABLE TO REJECT (MEANS COULD BE THE SAME)\")"
      ],
      "metadata": {
        "colab": {
          "base_uri": "https://localhost:8080/"
        },
        "id": "V2n3UDRt33uU",
        "outputId": "760caf9b-c335-4d71-f8e4-b8b96f734059"
      },
      "execution_count": 36,
      "outputs": [
        {
          "output_type": "stream",
          "name": "stdout",
          "text": [
            "TtestResult(statistic=9.743816217891522, pvalue=5.021356895595338e-19, df=232.0)\n",
            "REJECT (MEANS NOT THE SAME)\n"
          ]
        }
      ]
    },
    {
      "cell_type": "markdown",
      "source": [
        "### 1 Sample T-Test"
      ],
      "metadata": {
        "id": "hIwURKVT9E5H"
      }
    },
    {
      "cell_type": "markdown",
      "source": [
        "https://docs.scipy.org/doc/scipy/reference/generated/scipy.stats.ttest_1samp.html\n",
        "\n",
        "\n",
        "> Calculate the T-test for the mean of ONE group of scores.\n",
        ">\n",
        "> This is a test for the null hypothesis that the expected value (mean) of a sample of independent observations a is equal to the given population mean, popmean.\n",
        ">\n",
        "> Under certain assumptions about the population from which a sample is drawn, the confidence interval with confidence level 95% is expected to contain the true population mean in 95% of sample replications."
      ],
      "metadata": {
        "id": "zsyC_OHb21MR"
      }
    },
    {
      "cell_type": "markdown",
      "source": [
        "Suppose we wish to test the null hypothesis that the mean of the fed funds rates is equal to 2.5%.\n"
      ],
      "metadata": {
        "id": "fo-RJclB6PXh"
      }
    },
    {
      "cell_type": "code",
      "source": [
        "from scipy.stats import ttest_1samp\n",
        "\n",
        "x = df[\"fed\"]\n",
        "print(x.mean())\n",
        "\n",
        "popmean = 2.5 # for example\n",
        "result = ttest_1samp(x, popmean=popmean)\n",
        "print(result)\n",
        "\n",
        "if result.pvalue <= 0.05:\n",
        "    print(\"REJECT (MEAN NOT EQUAL TO POPMEAN)\")\n",
        "else:\n",
        "    print(\"NOT ABLE TO REJECT (MEAN COULT BE EQUAL TO POPMEAN)\")\n",
        "\n",
        "ci = result.confidence_interval(confidence_level=0.95)\n",
        "print(ci)"
      ],
      "metadata": {
        "colab": {
          "base_uri": "https://localhost:8080/"
        },
        "id": "J5HWDSOtPFX3",
        "outputId": "5eaa649f-0654-4064-fa78-4f2d2b9cc83a"
      },
      "execution_count": 37,
      "outputs": [
        {
          "output_type": "stream",
          "name": "stdout",
          "text": [
            "1.5887606837606836\n",
            "TtestResult(statistic=-7.415864219982758, pvalue=2.2306437030862214e-12, df=233)\n",
            "REJECT (MEAN NOT EQUAL TO POPMEAN)\n",
            "ConfidenceInterval(low=1.346668668631088, high=1.8308526988902791)\n"
          ]
        }
      ]
    }
  ]
}